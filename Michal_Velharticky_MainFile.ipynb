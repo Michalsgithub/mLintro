{
 "cells": [
  {
   "cell_type": "code",
   "execution_count": 170,
   "metadata": {
    "slideshow": {
     "slide_type": "-"
    }
   },
   "outputs": [],
   "source": [
    "import numpy as np\n",
    "import pandas as pd\n",
    "import seaborn as sns\n",
    "import matplotlib.pyplot as plt\n",
    "import datetime as dt\n",
    "\n",
    "pd.set_option('display.max_rows', 10)\n",
    "from sklearn.preprocessing import LabelEncoder\n",
    "from sklearn.model_selection import train_test_split\n",
    "import lightgbm as lgb\n",
    "from sklearn.ensemble import RandomForestRegressor\n",
    "from sklearn.model_selection import cross_val_score, cross_val_predict\n",
    "from sklearn.datasets import make_classification\n",
    "from sklearn.tree import DecisionTreeClassifier\n",
    "from matplotlib import pyplot"
   ]
  },
  {
   "cell_type": "code",
   "execution_count": 171,
   "metadata": {
    "slideshow": {
     "slide_type": "-"
    }
   },
   "outputs": [
    {
     "name": "stdout",
     "output_type": "stream",
     "text": [
      "           id date_account_created  timestamp_first_active date_first_booking  \\\n",
      "0  gxn3p5htnn           2010-06-28          20090319043255                NaN   \n",
      "1  820tgsjxq7           2011-05-25          20090523174809                NaN   \n",
      "2  4ft3gnwmtx           2010-09-28          20090609231247         2010-08-02   \n",
      "3  bjjt8pjhuk           2011-12-05          20091031060129         2012-09-08   \n",
      "4  87mebub9p4           2010-09-14          20091208061105         2010-02-18   \n",
      "\n",
      "      gender   age signup_method  signup_flow language affiliate_channel  \\\n",
      "0  -unknown-   NaN      facebook            0       en            direct   \n",
      "1       MALE  38.0      facebook            0       en               seo   \n",
      "2     FEMALE  56.0         basic            3       en            direct   \n",
      "3     FEMALE  42.0      facebook            0       en            direct   \n",
      "4  -unknown-  41.0         basic            0       en            direct   \n",
      "\n",
      "  affiliate_provider first_affiliate_tracked signup_app first_device_type  \\\n",
      "0             direct               untracked        Web       Mac Desktop   \n",
      "1             google               untracked        Web       Mac Desktop   \n",
      "2             direct               untracked        Web   Windows Desktop   \n",
      "3             direct               untracked        Web       Mac Desktop   \n",
      "4             direct               untracked        Web       Mac Desktop   \n",
      "\n",
      "  first_browser country_destination  \n",
      "0        Chrome                 NDF  \n",
      "1        Chrome                 NDF  \n",
      "2            IE                  US  \n",
      "3       Firefox               other  \n",
      "4        Chrome                  US  \n"
     ]
    }
   ],
   "source": [
    "hotel = pd.read_csv('train (1).csv') # Loading the file\n",
    "\n",
    "print(hotel.head()) # Viewing the date and first rows"
   ]
  },
  {
   "cell_type": "code",
   "execution_count": 172,
   "metadata": {},
   "outputs": [
    {
     "name": "stdout",
     "output_type": "stream",
     "text": [
      "(213451, 16)\n"
     ]
    }
   ],
   "source": [
    "print(hotel.shape)"
   ]
  },
  {
   "cell_type": "code",
   "execution_count": 173,
   "metadata": {},
   "outputs": [
    {
     "name": "stdout",
     "output_type": "stream",
     "text": [
      "Index(['id', 'date_account_created', 'timestamp_first_active',\n",
      "       'date_first_booking', 'gender', 'age', 'signup_method', 'signup_flow',\n",
      "       'language', 'affiliate_channel', 'affiliate_provider',\n",
      "       'first_affiliate_tracked', 'signup_app', 'first_device_type',\n",
      "       'first_browser', 'country_destination'],\n",
      "      dtype='object')\n"
     ]
    }
   ],
   "source": [
    "print(hotel.keys())"
   ]
  },
  {
   "cell_type": "code",
   "execution_count": 174,
   "metadata": {},
   "outputs": [
    {
     "name": "stdout",
     "output_type": "stream",
     "text": [
      "<class 'pandas.core.frame.DataFrame'>\n",
      "RangeIndex: 213451 entries, 0 to 213450\n",
      "Data columns (total 16 columns):\n",
      " #   Column                   Non-Null Count   Dtype  \n",
      "---  ------                   --------------   -----  \n",
      " 0   id                       213451 non-null  object \n",
      " 1   date_account_created     213451 non-null  object \n",
      " 2   timestamp_first_active   213451 non-null  int64  \n",
      " 3   date_first_booking       88908 non-null   object \n",
      " 4   gender                   213451 non-null  object \n",
      " 5   age                      125461 non-null  float64\n",
      " 6   signup_method            213451 non-null  object \n",
      " 7   signup_flow              213451 non-null  int64  \n",
      " 8   language                 213451 non-null  object \n",
      " 9   affiliate_channel        213451 non-null  object \n",
      " 10  affiliate_provider       213451 non-null  object \n",
      " 11  first_affiliate_tracked  207386 non-null  object \n",
      " 12  signup_app               213451 non-null  object \n",
      " 13  first_device_type        213451 non-null  object \n",
      " 14  first_browser            213451 non-null  object \n",
      " 15  country_destination      213451 non-null  object \n",
      "dtypes: float64(1), int64(2), object(13)\n",
      "memory usage: 26.1+ MB\n",
      "None\n"
     ]
    }
   ],
   "source": [
    "print(hotel.info())"
   ]
  },
  {
   "cell_type": "code",
   "execution_count": 175,
   "metadata": {},
   "outputs": [
    {
     "name": "stdout",
     "output_type": "stream",
     "text": [
      "id                              0\n",
      "date_account_created            0\n",
      "timestamp_first_active          0\n",
      "date_first_booking         124543\n",
      "gender                          0\n",
      "                            ...  \n",
      "first_affiliate_tracked      6065\n",
      "signup_app                      0\n",
      "first_device_type               0\n",
      "first_browser                   0\n",
      "country_destination             0\n",
      "Length: 16, dtype: int64\n"
     ]
    }
   ],
   "source": [
    "# Look up for null total of null values in the date set\n",
    "\n",
    "print(hotel.isnull().sum())"
   ]
  },
  {
   "cell_type": "code",
   "execution_count": 176,
   "metadata": {},
   "outputs": [
    {
     "name": "stdout",
     "output_type": "stream",
     "text": [
      "               feature_name  nan_cnt  nan_percentage\n",
      "3        date_first_booking   124543        0.583473\n",
      "5                       age    87990        0.412226\n",
      "11  first_affiliate_tracked     6065        0.028414\n",
      "0                        id        0        0.000000\n",
      "1      date_account_created        0        0.000000\n",
      "..                      ...      ...             ...\n",
      "10       affiliate_provider        0        0.000000\n",
      "12               signup_app        0        0.000000\n",
      "13        first_device_type        0        0.000000\n",
      "14            first_browser        0        0.000000\n",
      "15      country_destination        0        0.000000\n",
      "\n",
      "[16 rows x 3 columns]\n"
     ]
    }
   ],
   "source": [
    "# Check for percentage of null values in the data set\n",
    "\n",
    "nan_info = pd.DataFrame(hotel.isnull().sum()).reset_index()\n",
    "nan_info.columns = ['feature_name','nan_cnt']\n",
    "nan_info.sort_values(by = 'nan_cnt',ascending=False,inplace=True)\n",
    "nan_info['nan_percentage'] = nan_info['nan_cnt']/len(hotel)\n",
    "print(nan_info)"
   ]
  },
  {
   "cell_type": "markdown",
   "metadata": {},
   "source": [
    " We will explore each category from the booking and make the data is clean."
   ]
  },
  {
   "cell_type": "markdown",
   "metadata": {},
   "source": [
    "# GENDER"
   ]
  },
  {
   "cell_type": "code",
   "execution_count": 177,
   "metadata": {},
   "outputs": [
    {
     "name": "stdout",
     "output_type": "stream",
     "text": [
      "count        213451\n",
      "unique            4\n",
      "top       -unknown-\n",
      "freq          95688\n",
      "Name: gender, dtype: object\n",
      "\n",
      "['-unknown-' 'MALE' 'FEMALE' 'OTHER']\n",
      "\n",
      "-unknown-    0.448290\n",
      "FEMALE       0.295342\n",
      "MALE         0.255047\n",
      "OTHER        0.001321\n",
      "Name: gender, dtype: float64\n"
     ]
    }
   ],
   "source": [
    "print(hotel.gender.describe())\n",
    "print()\n",
    "print(hotel['gender'].unique()) # Unique values\n",
    "print()\n",
    "print(hotel['gender'].value_counts(normalize=True)) # Displaying the value distribution"
   ]
  },
  {
   "cell_type": "code",
   "execution_count": 178,
   "metadata": {},
   "outputs": [
    {
     "name": "stdout",
     "output_type": "stream",
     "text": [
      "['unknown' 'MALE' 'FEMALE' 'OTHER']\n",
      "\n"
     ]
    }
   ],
   "source": [
    "# Replace -unknown- to a more standardised value\n",
    "\n",
    "hotel['gender'] = hotel['gender'].str.replace('-unknown-','unknown')\n",
    "print(hotel['gender'].unique())\n",
    "print()"
   ]
  },
  {
   "cell_type": "code",
   "execution_count": 179,
   "metadata": {},
   "outputs": [
    {
     "name": "stdout",
     "output_type": "stream",
     "text": [
      "['other' 'MALE' 'FEMALE' 'OTHER']\n",
      "\n"
     ]
    }
   ],
   "source": [
    "# Unknown and other goes under one category since, they are both 'unknown'\n",
    "\n",
    "hotel['gender'] = hotel['gender'].str.replace('unknown','other')\n",
    "print(hotel['gender'].unique())\n",
    "print()"
   ]
  },
  {
   "cell_type": "code",
   "execution_count": 180,
   "metadata": {},
   "outputs": [
    {
     "name": "stdout",
     "output_type": "stream",
     "text": [
      "['other' 'male' 'female']\n",
      "\n",
      "other     0.449611\n",
      "female    0.295342\n",
      "male      0.255047\n",
      "Name: gender, dtype: float64\n",
      "\n"
     ]
    }
   ],
   "source": [
    "hotel['gender'] = hotel['gender'].str.lower()\n",
    "print(hotel['gender'].unique())\n",
    "print()\n",
    "print(hotel['gender'].value_counts(normalize=True))\n",
    "print()"
   ]
  },
  {
   "cell_type": "code",
   "execution_count": 181,
   "metadata": {},
   "outputs": [
    {
     "data": {
      "image/png": "[encoded data removed]",
      "text/plain": [
       "<Figure size 720x360 with 1 Axes>"
      ]
     },
     "metadata": {},
     "output_type": "display_data"
    }
   ],
   "source": [
    "# Let's see the distribution of categories\n",
    "\n",
    "plt.figure(figsize=(10,5))\n",
    "sns.countplot(x='gender', data=hotel)\n",
    "plt.ylabel('')\n",
    "plt.xlabel('')\n",
    "plt.title('Users Gender Distribution', color='black')\n",
    "plt.xticks(size=14)\n",
    "plt.yticks(size=14)\n",
    "\n",
    "plt.show()"
   ]
  },
  {
   "cell_type": "markdown",
   "metadata": {},
   "source": [
    "# AGE"
   ]
  },
  {
   "cell_type": "code",
   "execution_count": 182,
   "metadata": {},
   "outputs": [
    {
     "name": "stdout",
     "output_type": "stream",
     "text": [
      "count    125461.000000\n",
      "mean         49.668335\n",
      "std         155.666612\n",
      "min           1.000000\n",
      "25%          28.000000\n",
      "50%          34.000000\n",
      "75%          43.000000\n",
      "max        2014.000000\n",
      "Name: age, dtype: float64\n",
      "\n"
     ]
    }
   ],
   "source": [
    "print(hotel['age'].describe())\n",
    "print()"
   ]
  },
  {
   "cell_type": "code",
   "execution_count": 183,
   "metadata": {},
   "outputs": [
    {
     "data": {
      "text/plain": [
       "Text(0.5, 1.0, 'Age Distribution')"
      ]
     },
     "execution_count": 183,
     "metadata": {},
     "output_type": "execute_result"
    },
    {
     "data": {
      "image/png": "[encoded data removed]",
      "text/plain": [
       "<Figure size 1080x360 with 1 Axes>"
      ]
     },
     "metadata": {},
     "output_type": "display_data"
    }
   ],
   "source": [
    "# Seems there are some incorrect values with maximum age as 2014\n",
    "\n",
    "feature = 'age'\n",
    "fig = plt.figure(figsize=(15,5))\n",
    "plt.subplots_adjust(hspace = 0.5)\n",
    "sns.violinplot(hotel[feature], color='lightgreen')\n",
    "plt.title('Age Distribution'.format(feature))"
   ]
  },
  {
   "cell_type": "code",
   "execution_count": 184,
   "metadata": {},
   "outputs": [
    {
     "name": "stdout",
     "output_type": "stream",
     "text": [
      "Number of NaN values under age 87990\n"
     ]
    }
   ],
   "source": [
    "print('Number of NaN values under age', hotel.age.isnull().sum())"
   ]
  },
  {
   "cell_type": "code",
   "execution_count": 185,
   "metadata": {},
   "outputs": [
    {
     "name": "stdout",
     "output_type": "stream",
     "text": [
      "count    2345.000000\n",
      "mean      738.697655\n",
      "std       897.655359\n",
      "min       101.000000\n",
      "25%       105.000000\n",
      "50%       105.000000\n",
      "75%      2014.000000\n",
      "max      2014.000000\n",
      "Name: age, dtype: float64\n",
      "\n"
     ]
    }
   ],
   "source": [
    "# Let's have look at the amount of values that are over 100years\n",
    "\n",
    "print(hotel.loc[hotel['age']>100]['age'].describe())\n",
    "print()"
   ]
  },
  {
   "cell_type": "code",
   "execution_count": 186,
   "metadata": {},
   "outputs": [
    {
     "name": "stdout",
     "output_type": "stream",
     "text": [
      "count    158.000000\n",
      "mean      12.202532\n",
      "std        5.916359\n",
      "min        1.000000\n",
      "25%        5.000000\n",
      "50%       16.000000\n",
      "75%       17.000000\n",
      "max       17.000000\n",
      "Name: age, dtype: float64\n",
      "\n"
     ]
    }
   ],
   "source": [
    "# The minimum value is to be set for 18 as a legal age, so any users under 18years\n",
    "# will not be included\n",
    "\n",
    "print(hotel.loc[hotel['age']<18]['age'].describe())\n",
    "print()"
   ]
  },
  {
   "cell_type": "code",
   "execution_count": 187,
   "metadata": {},
   "outputs": [
    {
     "name": "stdout",
     "output_type": "stream",
     "text": [
      "90493\n",
      "\n",
      "\n"
     ]
    }
   ],
   "source": [
    "# Replacing non valid values with nan, increasing nan to 90492\n",
    "\n",
    "hotel.loc[hotel['age'] > 100, 'age'] = np.nan\n",
    "hotel.loc[hotel['age'] < 18, 'age'] = np.nan\n",
    "print(hotel['age'].isnull().sum())\n",
    "print()\n",
    "hotel['age'].describe()\n",
    "print()"
   ]
  },
  {
   "cell_type": "code",
   "execution_count": 188,
   "metadata": {},
   "outputs": [
    {
     "name": "stdout",
     "output_type": "stream",
     "text": [
      "36.57561931716521\n",
      "\n",
      "34.0\n",
      "\n"
     ]
    }
   ],
   "source": [
    "# To better understand the age data\n",
    "\n",
    "mean_before_filling = hotel['age'].mean()\n",
    "print(hotel['age'].mean())\n",
    "print()\n",
    "print(hotel['age'].median())\n",
    "print()"
   ]
  },
  {
   "cell_type": "code",
   "execution_count": 189,
   "metadata": {},
   "outputs": [
    {
     "data": {
      "image/png": "[encoded data removed]",
      "text/plain": [
       "<Figure size 1296x576 with 1 Axes>"
      ]
     },
     "metadata": {},
     "output_type": "display_data"
    }
   ],
   "source": [
    "# Let us see the age distribution\n",
    "\n",
    "plt.figure(figsize=(18,8))\n",
    "sns.set_style(\"whitegrid\")\n",
    "sns.distplot(hotel.age, color='purple')\n",
    "sns.despine()\n",
    "plt.ylabel('')\n",
    "plt.xlabel('')\n",
    "plt.title('Age Distribution', size=20, color='black')\n",
    "plt.xticks(size= 14)\n",
    "plt.yticks(size=0.1)\n",
    "\n",
    "plt.show()"
   ]
  },
  {
   "cell_type": "code",
   "execution_count": 190,
   "metadata": {},
   "outputs": [
    {
     "name": "stdout",
     "output_type": "stream",
     "text": [
      "0\n",
      "\n"
     ]
    }
   ],
   "source": [
    "# According to the skewed distribution I decided  replace the missing value with median value\n",
    "\n",
    "hotel['age'] = hotel['age'].fillna(hotel.age.median())\n",
    "print(hotel['age'].isnull().sum())\n",
    "print()"
   ]
  },
  {
   "cell_type": "code",
   "execution_count": 191,
   "metadata": {},
   "outputs": [
    {
     "name": "stdout",
     "output_type": "stream",
     "text": [
      "The value of mean after filling method changed by 1.0919392219677206\n",
      "\n",
      "While the median has not changed 34.0\n",
      "\n"
     ]
    }
   ],
   "source": [
    "# For understanding of the effect of the change\n",
    "mean_after_filling = hotel['age'].mean()\n",
    "print(\"The value of mean after filling method changed by\", mean_before_filling - mean_after_filling)\n",
    "print()\n",
    "print(\"While the median has not changed\", hotel['age'].median())\n",
    "print()"
   ]
  },
  {
   "cell_type": "code",
   "execution_count": 192,
   "metadata": {},
   "outputs": [
    {
     "name": "stdout",
     "output_type": "stream",
     "text": [
      "The value of mean after filling method changed by 1.0919392219677206\n",
      "\n",
      "While the median has not changed 34.0\n",
      "\n"
     ]
    }
   ],
   "source": [
    "# Again to see for the effect of the change\n",
    "\n",
    "mean_after_filling = hotel['age'].mean()\n",
    "print(\"The value of mean after filling method changed by\", mean_before_filling - mean_after_filling)\n",
    "print()\n",
    "print(\"While the median has not changed\", hotel['age'].median())\n",
    "print()"
   ]
  },
  {
   "cell_type": "code",
   "execution_count": 193,
   "metadata": {},
   "outputs": [
    {
     "name": "stdout",
     "output_type": "stream",
     "text": [
      "34.0    95522\n",
      "30.0     6124\n",
      "31.0     6016\n",
      "29.0     5963\n",
      "28.0     5939\n",
      "        ...  \n",
      "89.0       13\n",
      "88.0       12\n",
      "94.0       12\n",
      "91.0       12\n",
      "97.0       10\n",
      "Name: age, Length: 83, dtype: int64\n"
     ]
    }
   ],
   "source": [
    "# Let's have a look at the values\n",
    "\n",
    "print(hotel['age'].value_counts())"
   ]
  },
  {
   "cell_type": "code",
   "execution_count": 194,
   "metadata": {},
   "outputs": [
    {
     "data": {
      "image/png": "[encoded data removed]",
      "text/plain": [
       "<Figure size 1296x576 with 1 Axes>"
      ]
     },
     "metadata": {},
     "output_type": "display_data"
    }
   ],
   "source": [
    "#A visualization\n",
    "\n",
    "plt.figure(figsize=(18,8))\n",
    "sns.set_style(\"whitegrid\")\n",
    "sns.distplot(hotel.age, color='purple')\n",
    "sns.despine()\n",
    "plt.ylabel('')\n",
    "plt.xlabel('')\n",
    "plt.title('Age Distribution', size=20, color='black')\n",
    "plt.xticks(size= 14)\n",
    "plt.yticks(size=0.1)\n",
    "\n",
    "plt.show()"
   ]
  },
  {
   "cell_type": "markdown",
   "metadata": {},
   "source": [
    "# TIMESTAMP FIRST ACTIVE"
   ]
  },
  {
   "cell_type": "code",
   "execution_count": 195,
   "metadata": {},
   "outputs": [
    {
     "name": "stdout",
     "output_type": "stream",
     "text": [
      "0    20090319043255\n",
      "1    20090523174809\n",
      "2    20090609231247\n",
      "3    20091031060129\n",
      "4    20091208061105\n",
      "Name: timestamp_first_active, dtype: int64\n",
      "\n"
     ]
    }
   ],
   "source": [
    "print(hotel.timestamp_first_active.head())\n",
    "print()"
   ]
  },
  {
   "cell_type": "code",
   "execution_count": 196,
   "metadata": {},
   "outputs": [
    {
     "name": "stdout",
     "output_type": "stream",
     "text": [
      "0   2009-03-19\n",
      "1   2009-05-23\n",
      "2   2009-06-09\n",
      "3   2009-10-31\n",
      "4   2009-12-08\n",
      "Name: timestamp_first_active, dtype: datetime64[ns]\n",
      "\n",
      "count                  213451\n",
      "unique                   1639\n",
      "top       2014-05-13 00:00:00\n",
      "freq                      673\n",
      "first     2009-03-19 00:00:00\n",
      "last      2014-06-30 00:00:00\n",
      "Name: timestamp_first_active, dtype: object\n",
      "\n"
     ]
    }
   ],
   "source": [
    "# The time stamp comes with hour, minutes, etc. we are going to convert them and discart\n",
    "# unnecessary values\n",
    "\n",
    "hotel['timestamp_first_active'] = pd.to_datetime((hotel['timestamp_first_active'])//1000000, format='%Y%m%d')\n",
    "print(hotel['timestamp_first_active'].head())\n",
    "print()\n",
    "print(hotel['timestamp_first_active'].describe())\n",
    "print()"
   ]
  },
  {
   "cell_type": "code",
   "execution_count": 197,
   "metadata": {},
   "outputs": [
    {
     "data": {
      "image/png": "[encoded data removed]",
      "text/plain": [
       "<Figure size 1296x504 with 1 Axes>"
      ]
     },
     "metadata": {},
     "output_type": "display_data"
    }
   ],
   "source": [
    "#A visualization\n",
    "\n",
    "plt.figure(figsize=(18,7))\n",
    "hotel.timestamp_first_active.value_counts().plot(kind='line', linewidth=0.75, color='orange')\n",
    "plt.xlabel('')\n",
    "plt.title('First Day of Booking over Time',color='black', size=20)\n",
    "plt.xticks(size= 14)\n",
    "plt.yticks(size= 14)\n",
    "\n",
    "plt.show()"
   ]
  },
  {
   "cell_type": "markdown",
   "metadata": {},
   "source": [
    "# DATE ACCOUNT CREATED"
   ]
  },
  {
   "cell_type": "code",
   "execution_count": 198,
   "metadata": {},
   "outputs": [
    {
     "name": "stdout",
     "output_type": "stream",
     "text": [
      "0    2010-06-28\n",
      "1    2011-05-25\n",
      "2    2010-09-28\n",
      "3    2011-12-05\n",
      "4    2010-09-14\n",
      "Name: date_account_created, dtype: object\n",
      "\n"
     ]
    }
   ],
   "source": [
    "print(hotel['date_account_created'].head())\n",
    "print()"
   ]
  },
  {
   "cell_type": "code",
   "execution_count": 199,
   "metadata": {},
   "outputs": [
    {
     "data": {
      "text/plain": [
       "0   2010-06-28\n",
       "1   2011-05-25\n",
       "2   2010-09-28\n",
       "3   2011-12-05\n",
       "4   2010-09-14\n",
       "Name: date_account_created, dtype: datetime64[ns]"
      ]
     },
     "execution_count": 199,
     "metadata": {},
     "output_type": "execute_result"
    }
   ],
   "source": [
    "# Conversion to a appropriate data type\n",
    "\n",
    "hotel['date_account_created'] = pd.to_datetime(hotel['date_account_created'])\n",
    "hotel['date_account_created'].head()"
   ]
  },
  {
   "cell_type": "code",
   "execution_count": 200,
   "metadata": {},
   "outputs": [
    {
     "name": "stdout",
     "output_type": "stream",
     "text": [
      "0\n",
      "\n"
     ]
    }
   ],
   "source": [
    "# Check for null values\n",
    "\n",
    "print(hotel['date_account_created'].isnull().sum())\n",
    "print()"
   ]
  },
  {
   "cell_type": "code",
   "execution_count": 201,
   "metadata": {},
   "outputs": [
    {
     "data": {
      "image/png": "[encoded data removed]",
      "text/plain": [
       "<Figure size 1296x504 with 1 Axes>"
      ]
     },
     "metadata": {},
     "output_type": "display_data"
    }
   ],
   "source": [
    "#A visualization\n",
    "\n",
    "plt.figure(figsize=(18,7))\n",
    "hotel['date_account_created'].value_counts().plot(kind='line', linewidth=0.75, color='brown')\n",
    "plt.ylabel('')\n",
    "plt.xlabel('')\n",
    "plt.title('Overview of New Acounts Registrations',color='black', size=18)\n",
    "plt.xticks(size= 14)\n",
    "plt.yticks(size= 14)\n",
    "\n",
    "plt.show()"
   ]
  },
  {
   "cell_type": "code",
   "execution_count": 202,
   "metadata": {},
   "outputs": [
    {
     "data": {
      "text/plain": [
       "(array([-100.,    0.,  100.,  200.,  300.,  400.,  500.,  600.,  700.,\n",
       "         800.]),\n",
       " <a list of 10 Text yticklabel objects>)"
      ]
     },
     "execution_count": 202,
     "metadata": {},
     "output_type": "execute_result"
    },
    {
     "data": {
      "image/png": "[encoded data removed]",
      "text/plain": [
       "<Figure size 1440x576 with 1 Axes>"
      ]
     },
     "metadata": {},
     "output_type": "display_data"
    }
   ],
   "source": [
    "#A visualization of First Day of Booking & Account Created, the both dates seem to\n",
    "# very similar\n",
    "\n",
    "plt.figure(figsize=(20,8))\n",
    "hotel.timestamp_first_active.value_counts().plot(kind='line', linewidth=2.5, color='yellow')\n",
    "hotel.date_account_created.value_counts().plot(kind='line', linewidth=0.55, color='black')\n",
    "plt.title('First Day of Booking & Account Created',color='black', size=20)\n",
    "plt.xticks(size= 14)\n",
    "plt.yticks(size= 14)\n",
    "#plt.show()"
   ]
  },
  {
   "cell_type": "markdown",
   "metadata": {},
   "source": [
    "# DATE FIRST BOOKING"
   ]
  },
  {
   "cell_type": "code",
   "execution_count": 203,
   "metadata": {},
   "outputs": [
    {
     "name": "stdout",
     "output_type": "stream",
     "text": [
      "count          88908\n",
      "unique          1976\n",
      "top       2014-05-22\n",
      "freq             248\n",
      "Name: date_first_booking, dtype: object\n",
      "124543\n",
      "\n"
     ]
    }
   ],
   "source": [
    "print(hotel['date_first_booking'].describe())\n",
    "print(hotel['date_first_booking'].isnull().sum())\n",
    "print()"
   ]
  },
  {
   "cell_type": "code",
   "execution_count": 204,
   "metadata": {},
   "outputs": [
    {
     "data": {
      "text/plain": [
       "0                  0\n",
       "1                  0\n",
       "2         2010-08-02\n",
       "3         2012-09-08\n",
       "4         2010-02-18\n",
       "             ...    \n",
       "213446             0\n",
       "213447             0\n",
       "213448             0\n",
       "213449             0\n",
       "213450             0\n",
       "Name: date_first_booking, Length: 213451, dtype: object"
      ]
     },
     "execution_count": 204,
     "metadata": {},
     "output_type": "execute_result"
    }
   ],
   "source": [
    "# Filling missing values, prep for interpolate()\n",
    "hotel['date_first_booking'].fillna(value=0)"
   ]
  },
  {
   "cell_type": "code",
   "execution_count": 205,
   "metadata": {},
   "outputs": [
    {
     "name": "stdout",
     "output_type": "stream",
     "text": [
      "2\n",
      "\n",
      "0           NaN\n",
      "1           NaN\n",
      "2    2010-08-02\n",
      "3    2012-09-08\n",
      "4    2010-02-18\n",
      "Name: date_first_booking, dtype: object\n"
     ]
    }
   ],
   "source": [
    "# Since there are some missing values in date, the used method is:\n",
    "# ‘pad’: Fill in NaNs using existing values\n",
    "\n",
    "hotel['date_first_booking'] = hotel['date_first_booking'].interpolate(method='pad', limit=25)\n",
    "print(hotel['date_first_booking'].isnull().sum())\n",
    "print()\n",
    "print(hotel['date_first_booking'].head())"
   ]
  },
  {
   "cell_type": "code",
   "execution_count": 206,
   "metadata": {},
   "outputs": [
    {
     "name": "stdout",
     "output_type": "stream",
     "text": [
      "2    2010-08-02\n",
      "3    2012-09-08\n",
      "4    2010-02-18\n",
      "5    2010-01-02\n",
      "6    2010-01-05\n",
      "Name: date_first_booking, dtype: object\n"
     ]
    }
   ],
   "source": [
    "# Dropping the first two values of the data frame\n",
    "# since it was not possible to extrapolate\n",
    "\n",
    "hotel.drop(hotel.head(2).index, inplace=True)\n",
    "print(hotel['date_first_booking'].head())"
   ]
  },
  {
   "cell_type": "code",
   "execution_count": 207,
   "metadata": {},
   "outputs": [
    {
     "data": {
      "image/png": "[encoded data removed]",
      "text/plain": [
       "<Figure size 1296x504 with 1 Axes>"
      ]
     },
     "metadata": {},
     "output_type": "display_data"
    }
   ],
   "source": [
    "# A visualization\n",
    "\n",
    "plt.figure(figsize=(18,7))\n",
    "hotel.date_first_booking.value_counts().plot(kind='line', linewidth=0.85, color='black')\n",
    "plt.xlabel('')\n",
    "plt.title('First Day of Booking over Time',color='black', size=20)\n",
    "plt.xticks(rotation=0,size= 14)\n",
    "plt.yticks(size= 14)\n",
    "\n",
    "plt.show()"
   ]
  },
  {
   "cell_type": "markdown",
   "metadata": {},
   "source": [
    "# SIGNUP METHOD"
   ]
  },
  {
   "cell_type": "code",
   "execution_count": 208,
   "metadata": {},
   "outputs": [
    {
     "name": "stdout",
     "output_type": "stream",
     "text": [
      "['basic' 'facebook' 'google']\n",
      "\n",
      "count     213449\n",
      "unique         3\n",
      "top        basic\n",
      "freq      152897\n",
      "Name: signup_method, dtype: object\n"
     ]
    }
   ],
   "source": [
    "# These are the unique values\n",
    "print(hotel.signup_method.unique())\n",
    "print()\n",
    "print(hotel['signup_method'].describe())"
   ]
  },
  {
   "cell_type": "code",
   "execution_count": 209,
   "metadata": {},
   "outputs": [
    {
     "name": "stdout",
     "output_type": "stream",
     "text": [
      "basic       152897\n",
      "facebook     60006\n",
      "google         546\n",
      "Name: signup_method, dtype: int64\n"
     ]
    }
   ],
   "source": [
    "# Displaying the value distribution\n",
    "\n",
    "print(hotel['signup_method'].value_counts())"
   ]
  },
  {
   "cell_type": "code",
   "execution_count": 210,
   "metadata": {},
   "outputs": [
    {
     "data": {
      "image/png": "[encoded data removed]",
      "text/plain": [
       "<Figure size 1008x288 with 1 Axes>"
      ]
     },
     "metadata": {},
     "output_type": "display_data"
    }
   ],
   "source": [
    "# A visualization\n",
    "\n",
    "plt.figure(figsize=(14,4))\n",
    "sns.countplot(x='signup_method', data=hotel, palette=\"rocket\")\n",
    "plt.ylabel('')\n",
    "plt.xlabel('')\n",
    "plt.title('Sign up Methods used', color='black',size= 14)\n",
    "plt.xticks(size= 14)\n",
    "plt.yticks(size= 14)\n",
    "\n",
    "plt.show()"
   ]
  },
  {
   "cell_type": "markdown",
   "metadata": {},
   "source": [
    "# SIGNUP FLOW"
   ]
  },
  {
   "cell_type": "code",
   "execution_count": 211,
   "metadata": {},
   "outputs": [
    {
     "name": "stdout",
     "output_type": "stream",
     "text": [
      "2    3\n",
      "3    0\n",
      "4    0\n",
      "5    0\n",
      "6    0\n",
      "Name: signup_flow, dtype: int64\n"
     ]
    }
   ],
   "source": [
    "print(hotel['signup_flow'].head())"
   ]
  },
  {
   "cell_type": "code",
   "execution_count": 212,
   "metadata": {},
   "outputs": [
    {
     "name": "stdout",
     "output_type": "stream",
     "text": [
      "[ 3  0  2  1 24  8  6  5 10 25 12  4 16 15 20 21 23]\n"
     ]
    }
   ],
   "source": [
    "# These are the unique values\n",
    "\n",
    "print(hotel.signup_flow.unique())"
   ]
  },
  {
   "cell_type": "code",
   "execution_count": 213,
   "metadata": {},
   "outputs": [
    {
     "name": "stdout",
     "output_type": "stream",
     "text": [
      "count    213449.000000\n",
      "mean          3.267418\n",
      "std           7.637736\n",
      "min           0.000000\n",
      "25%           0.000000\n",
      "50%           0.000000\n",
      "75%           0.000000\n",
      "max          25.000000\n",
      "Name: signup_flow, dtype: float64\n"
     ]
    }
   ],
   "source": [
    "print(hotel['signup_flow'].describe())"
   ]
  },
  {
   "cell_type": "code",
   "execution_count": 214,
   "metadata": {},
   "outputs": [
    {
     "data": {
      "image/png": "[encoded data removed]",
      "text/plain": [
       "<Figure size 1296x288 with 1 Axes>"
      ]
     },
     "metadata": {},
     "output_type": "display_data"
    }
   ],
   "source": [
    "# A visualization\n",
    "\n",
    "plt.figure(figsize=(18,4))\n",
    "sns.countplot(x='signup_flow', data=hotel)\n",
    "plt.ylabel('')\n",
    "plt.xlabel('')\n",
    "plt.title('Signup Flow', color='black',size= 14)\n",
    "plt.xticks(size= 14)\n",
    "plt.yticks(size= 14)\n",
    "\n",
    "plt.show()"
   ]
  },
  {
   "cell_type": "markdown",
   "metadata": {},
   "source": [
    "# LANGUAGE"
   ]
  },
  {
   "cell_type": "code",
   "execution_count": 215,
   "metadata": {},
   "outputs": [
    {
     "name": "stdout",
     "output_type": "stream",
     "text": [
      "2    en\n",
      "3    en\n",
      "4    en\n",
      "5    en\n",
      "6    en\n",
      "Name: language, dtype: object\n"
     ]
    }
   ],
   "source": [
    "print(hotel['language'].head())"
   ]
  },
  {
   "cell_type": "code",
   "execution_count": 216,
   "metadata": {},
   "outputs": [
    {
     "name": "stdout",
     "output_type": "stream",
     "text": [
      "['en' 'fr' 'de' 'es' 'it' 'pt' 'zh' 'ko' 'ja' 'ru' 'pl' 'el' 'sv' 'nl'\n",
      " 'hu' 'da' 'id' 'fi' 'no' 'tr' 'th' 'cs' 'hr' 'ca' 'is']\n"
     ]
    }
   ],
   "source": [
    "# These are the unique values\n",
    "\n",
    "print(hotel['language'].unique())"
   ]
  },
  {
   "cell_type": "code",
   "execution_count": 217,
   "metadata": {},
   "outputs": [
    {
     "name": "stdout",
     "output_type": "stream",
     "text": [
      "en    0.966563\n",
      "zh    0.007646\n",
      "fr    0.005491\n",
      "es    0.004287\n",
      "ko    0.003500\n",
      "        ...   \n",
      "hu    0.000084\n",
      "fi    0.000066\n",
      "is    0.000023\n",
      "ca    0.000023\n",
      "hr    0.000009\n",
      "Name: language, Length: 25, dtype: float64\n"
     ]
    }
   ],
   "source": [
    "print(hotel['language'].value_counts(normalize=True))\n"
   ]
  },
  {
   "cell_type": "markdown",
   "metadata": {},
   "source": [
    "# AFFILIATE CHANNEL"
   ]
  },
  {
   "cell_type": "code",
   "execution_count": 218,
   "metadata": {},
   "outputs": [
    {
     "name": "stdout",
     "output_type": "stream",
     "text": [
      "2    direct\n",
      "3    direct\n",
      "4    direct\n",
      "5     other\n",
      "6     other\n",
      "Name: affiliate_channel, dtype: object\n"
     ]
    }
   ],
   "source": [
    "print(hotel['affiliate_channel'].head())"
   ]
  },
  {
   "cell_type": "code",
   "execution_count": 219,
   "metadata": {},
   "outputs": [
    {
     "name": "stdout",
     "output_type": "stream",
     "text": [
      "direct           0.645241\n",
      "sem-brand        0.122020\n",
      "sem-non-brand    0.088283\n",
      "other            0.041982\n",
      "seo              0.040581\n",
      "api              0.038262\n",
      "content          0.018496\n",
      "remarketing      0.005135\n",
      "Name: affiliate_channel, dtype: float64\n"
     ]
    }
   ],
   "source": [
    "# A look at the distribution\n",
    "\n",
    "print(hotel['affiliate_channel'].value_counts(normalize=True))"
   ]
  },
  {
   "cell_type": "code",
   "execution_count": 220,
   "metadata": {},
   "outputs": [
    {
     "name": "stdout",
     "output_type": "stream",
     "text": [
      "['direct' 'other' 'sem-non-brand' 'sem-brand']\n"
     ]
    }
   ],
   "source": [
    "# Those categories that are in such low count will be simplified\n",
    "# and put under 'other' since their significant is extremely low\n",
    "\n",
    "channel_dictionary = {'seo':'other', 'api':'other','content':'other','remarketing':'other'}\n",
    "hotel['affiliate_channel'] = hotel['affiliate_channel'].replace(channel_dictionary)\n",
    "print(hotel['affiliate_channel'].unique())"
   ]
  },
  {
   "cell_type": "code",
   "execution_count": 221,
   "metadata": {},
   "outputs": [
    {
     "name": "stdout",
     "output_type": "stream",
     "text": [
      "count     213449\n",
      "unique         4\n",
      "top       direct\n",
      "freq      137726\n",
      "Name: affiliate_channel, dtype: object\n"
     ]
    }
   ],
   "source": [
    "print(hotel['affiliate_channel'].describe())"
   ]
  },
  {
   "cell_type": "code",
   "execution_count": 222,
   "metadata": {},
   "outputs": [
    {
     "data": {
      "image/png": "[encoded data removed]",
      "text/plain": [
       "<Figure size 1008x288 with 1 Axes>"
      ]
     },
     "metadata": {},
     "output_type": "display_data"
    }
   ],
   "source": [
    "plt.figure(figsize=(14,4))\n",
    "sns.countplot(x='affiliate_channel', data=hotel, palette='rocket')\n",
    "plt.ylabel('')\n",
    "plt.xlabel('')\n",
    "plt.title('Affiliate Flow', color='black',size=16)\n",
    "plt.xticks(rotation=60, size= 12)\n",
    "\n",
    "plt.show()"
   ]
  },
  {
   "cell_type": "markdown",
   "metadata": {},
   "source": [
    "# AFFILIATE PROVIDER"
   ]
  },
  {
   "cell_type": "code",
   "execution_count": 223,
   "metadata": {},
   "outputs": [
    {
     "name": "stdout",
     "output_type": "stream",
     "text": [
      "['direct' 'other' 'craigslist' 'facebook' 'google' 'vast' 'bing' 'meetup'\n",
      " 'facebook-open-graph' 'email-marketing' 'yahoo' 'padmapper' 'gsp' 'wayn'\n",
      " 'naver' 'baidu' 'yandex' 'daum']\n"
     ]
    }
   ],
   "source": [
    "print(hotel['affiliate_provider'].unique())"
   ]
  },
  {
   "cell_type": "code",
   "execution_count": 224,
   "metadata": {},
   "outputs": [
    {
     "name": "stdout",
     "output_type": "stream",
     "text": [
      "count     213449\n",
      "unique        18\n",
      "top       direct\n",
      "freq      137425\n",
      "Name: affiliate_provider, dtype: object\n"
     ]
    }
   ],
   "source": [
    "print(hotel['affiliate_provider'].describe())"
   ]
  },
  {
   "cell_type": "code",
   "execution_count": 225,
   "metadata": {},
   "outputs": [
    {
     "name": "stdout",
     "output_type": "stream",
     "text": [
      "direct        137425\n",
      "google         51692\n",
      "other          12549\n",
      "craigslist      3471\n",
      "bing            2328\n",
      "               ...  \n",
      "naver             52\n",
      "baidu             29\n",
      "yandex            17\n",
      "wayn               8\n",
      "daum               1\n",
      "Name: affiliate_provider, Length: 18, dtype: int64\n"
     ]
    }
   ],
   "source": [
    "# An insight in the data distribution\n",
    "\n",
    "print(hotel['affiliate_provider'].value_counts())"
   ]
  },
  {
   "cell_type": "code",
   "execution_count": 226,
   "metadata": {},
   "outputs": [
    {
     "name": "stdout",
     "output_type": "stream",
     "text": [
      "['direct' 'other' 'craigslist' 'facebook' 'google' 'bing']\n"
     ]
    }
   ],
   "source": [
    "# Simplification of values that are in low counts and put under the category as 'other'\n",
    "\n",
    "provider_dictionary = {'vast':'other', 'meetup':'other', 'facebook-open-graph':'other',\n",
    "                      'padmapper':'other','gsp':'other', 'wayn':'other', 'naver':'other',\n",
    "                      'baidu':'other', 'yandex':'other','daum':'other','email-marketing':'other',\n",
    "                      'email-marketing':'other', 'yahoo':'other'}\n",
    "\n",
    "hotel['affiliate_provider'] = hotel['affiliate_provider'].replace(provider_dictionary)\n",
    "print(hotel['affiliate_provider'].unique())"
   ]
  },
  {
   "cell_type": "code",
   "execution_count": 227,
   "metadata": {},
   "outputs": [
    {
     "data": {
      "image/png": "[encoded data removed]",
      "text/plain": [
       "<Figure size 1296x360 with 1 Axes>"
      ]
     },
     "metadata": {},
     "output_type": "display_data"
    }
   ],
   "source": [
    "plt.figure(figsize=(18,5))\n",
    "sns.countplot(x='affiliate_provider', data=hotel, palette='deep')\n",
    "plt.ylabel('')\n",
    "plt.xlabel('')\n",
    "plt.title('Affiliate Providers', color='black', size=18)\n",
    "plt.xticks(rotation=60, size= 14)\n",
    "\n",
    "plt.show()"
   ]
  },
  {
   "cell_type": "markdown",
   "metadata": {},
   "source": [
    "# FIRST AFFILIATE"
   ]
  },
  {
   "cell_type": "code",
   "execution_count": 228,
   "metadata": {},
   "outputs": [
    {
     "name": "stdout",
     "output_type": "stream",
     "text": [
      "2    untracked\n",
      "3    untracked\n",
      "4    untracked\n",
      "5          omg\n",
      "6    untracked\n",
      "Name: first_affiliate_tracked, dtype: object\n"
     ]
    }
   ],
   "source": [
    "print(hotel['first_affiliate_tracked'].head())"
   ]
  },
  {
   "cell_type": "code",
   "execution_count": 229,
   "metadata": {},
   "outputs": [
    {
     "name": "stdout",
     "output_type": "stream",
     "text": [
      "There are 6065 missing values\n"
     ]
    }
   ],
   "source": [
    "print('There are', hotel['first_affiliate_tracked'].isnull().sum(), 'missing values' )\n"
   ]
  },
  {
   "cell_type": "code",
   "execution_count": 230,
   "metadata": {},
   "outputs": [
    {
     "name": "stdout",
     "output_type": "stream",
     "text": [
      "['untracked' 'omg' nan 'linked' 'tracked-other' 'product' 'marketing'\n",
      " 'local ops']\n",
      "\n",
      "count        207384\n",
      "unique            7\n",
      "top       untracked\n",
      "freq         109230\n",
      "Name: first_affiliate_tracked, dtype: object\n"
     ]
    }
   ],
   "source": [
    "# Unique values\n",
    "\n",
    "print(hotel['first_affiliate_tracked'].unique())\n",
    "print()\n",
    "print(hotel['first_affiliate_tracked'].describe())"
   ]
  },
  {
   "cell_type": "code",
   "execution_count": 231,
   "metadata": {},
   "outputs": [
    {
     "name": "stdout",
     "output_type": "stream",
     "text": [
      "0\n"
     ]
    }
   ],
   "source": [
    "# The NaN value will fall under untracked since the meaning is the same\n",
    "\n",
    "hotel['first_affiliate_tracked'] = hotel['first_affiliate_tracked'].fillna(value='untracked')\n",
    "print(hotel['first_affiliate_tracked'].isnull().sum())"
   ]
  },
  {
   "cell_type": "code",
   "execution_count": 232,
   "metadata": {},
   "outputs": [
    {
     "name": "stdout",
     "output_type": "stream",
     "text": [
      "untracked        0.540152\n",
      "linked           0.216853\n",
      "omg              0.206054\n",
      "tracked-other    0.028841\n",
      "product          0.007290\n",
      "marketing        0.000651\n",
      "local ops        0.000159\n",
      "Name: first_affiliate_tracked, dtype: float64\n"
     ]
    }
   ],
   "source": [
    "# Viewing the data distribution\n",
    "\n",
    "print(hotel['first_affiliate_tracked'].value_counts(normalize=True))"
   ]
  },
  {
   "cell_type": "code",
   "execution_count": 233,
   "metadata": {},
   "outputs": [
    {
     "name": "stdout",
     "output_type": "stream",
     "text": [
      "['untracked' 'omg' 'linked' 'tracked-other' 'other']\n"
     ]
    }
   ],
   "source": [
    "# Simplifying just as in the previous way, low values will be under 'other' category\n",
    "\n",
    "affiliate_dictionary = {'product':'other', 'marketing':'other', 'local ops':'other'}\n",
    "\n",
    "hotel['first_affiliate_tracked'] = hotel['first_affiliate_tracked'].replace(affiliate_dictionary)\n",
    "print(hotel['first_affiliate_tracked'].unique())"
   ]
  },
  {
   "cell_type": "code",
   "execution_count": 234,
   "metadata": {},
   "outputs": [
    {
     "data": {
      "image/png": "[encoded data removed]",
      "text/plain": [
       "<Figure size 1152x360 with 1 Axes>"
      ]
     },
     "metadata": {},
     "output_type": "display_data"
    }
   ],
   "source": [
    "plt.figure(figsize=(16,5))\n",
    "sns.countplot(x='first_affiliate_tracked', data=hotel, palette='deep')\n",
    "plt.ylabel('')\n",
    "plt.xlabel('')\n",
    "plt.title('Signup Flow', color='black')\n",
    "plt.xticks(rotation=60, size= 15)\n",
    "\n",
    "plt.show()"
   ]
  },
  {
   "cell_type": "markdown",
   "metadata": {},
   "source": [
    "# SIGNUP APP"
   ]
  },
  {
   "cell_type": "code",
   "execution_count": 235,
   "metadata": {},
   "outputs": [
    {
     "name": "stdout",
     "output_type": "stream",
     "text": [
      "['Web' 'Moweb' 'iOS' 'Android']\n",
      "\n",
      "count     213449\n",
      "unique         4\n",
      "top          Web\n",
      "freq      182715\n",
      "Name: signup_app, dtype: object\n",
      "\n"
     ]
    }
   ],
   "source": [
    "# Unique values\n",
    "print(hotel['signup_app'].unique())\n",
    "print()\n",
    "print(hotel['signup_app'].describe())\n",
    "print()"
   ]
  },
  {
   "cell_type": "code",
   "execution_count": 236,
   "metadata": {},
   "outputs": [
    {
     "name": "stdout",
     "output_type": "stream",
     "text": [
      "Web        182715\n",
      "iOS         19019\n",
      "Moweb        6261\n",
      "Android      5454\n",
      "Name: signup_app, dtype: int64\n",
      "\n"
     ]
    }
   ],
   "source": [
    "# Value distribution\n",
    "\n",
    "print(hotel['signup_app'].value_counts())\n",
    "print()"
   ]
  },
  {
   "cell_type": "code",
   "execution_count": 237,
   "metadata": {},
   "outputs": [
    {
     "name": "stdout",
     "output_type": "stream",
     "text": [
      "['DesktopOS' 'other' 'MobileOS']\n",
      "\n"
     ]
    }
   ],
   "source": [
    "# Simplification of low values\n",
    "\n",
    "app_dictionary = {'Web':'DesktopOS', 'iOS':'MobileOS', 'Android':'MobileOS','Moweb':'other'}\n",
    "\n",
    "hotel['signup_app']=hotel['signup_app'].replace(app_dictionary)\n",
    "print(hotel['signup_app'].unique())\n",
    "print()"
   ]
  },
  {
   "cell_type": "code",
   "execution_count": 238,
   "metadata": {},
   "outputs": [
    {
     "data": {
      "image/png": "[encoded data removed]",
      "text/plain": [
       "<Figure size 1152x360 with 1 Axes>"
      ]
     },
     "metadata": {},
     "output_type": "display_data"
    }
   ],
   "source": [
    "#Visualiation \n",
    "\n",
    "plt.figure(figsize=(16,5))\n",
    "sns.countplot(x='signup_app', data=hotel, palette='rocket')\n",
    "plt.ylabel('')\n",
    "plt.xlabel('')\n",
    "plt.title('Signup App', color='black',size= 18)\n",
    "plt.xticks(size= 16)\n",
    "\n",
    "plt.show()"
   ]
  },
  {
   "cell_type": "markdown",
   "metadata": {},
   "source": [
    " # FIRST DEVICE TYPE\n"
   ]
  },
  {
   "cell_type": "code",
   "execution_count": 239,
   "metadata": {},
   "outputs": [
    {
     "name": "stdout",
     "output_type": "stream",
     "text": [
      "['Windows Desktop' 'Mac Desktop' 'iPhone' 'Other/Unknown'\n",
      " 'Desktop (Other)' 'Android Tablet' 'iPad' 'Android Phone'\n",
      " 'SmartPhone (Other)']\n",
      "\n",
      "count          213449\n",
      "unique              9\n",
      "top       Mac Desktop\n",
      "freq            89598\n",
      "Name: first_device_type, dtype: object\n",
      "\n"
     ]
    }
   ],
   "source": [
    "# Unique values\n",
    "print(hotel['first_device_type'].unique())\n",
    "print()\n",
    "print(hotel['first_device_type'].describe())\n",
    "print()"
   ]
  },
  {
   "cell_type": "code",
   "execution_count": 240,
   "metadata": {},
   "outputs": [
    {
     "name": "stdout",
     "output_type": "stream",
     "text": [
      "Mac Desktop           0.419763\n",
      "Windows Desktop       0.340672\n",
      "iPhone                0.097255\n",
      "iPad                  0.067178\n",
      "Other/Unknown         0.049974\n",
      "Android Phone         0.013132\n",
      "Android Tablet        0.006053\n",
      "Desktop (Other)       0.005617\n",
      "SmartPhone (Other)    0.000356\n",
      "Name: first_device_type, dtype: float64\n",
      "\n"
     ]
    }
   ],
   "source": [
    "# Value distribution\n",
    "\n",
    "print(hotel['first_device_type'].value_counts(normalize=True))\n",
    "print()"
   ]
  },
  {
   "cell_type": "code",
   "execution_count": 241,
   "metadata": {},
   "outputs": [
    {
     "name": "stdout",
     "output_type": "stream",
     "text": [
      "['Desktop' 'Mobile' 'unknown']\n"
     ]
    }
   ],
   "source": [
    "#Simplification of low values\n",
    "\n",
    "device_type_dict = {'Mac Desktop':'Desktop', 'Windows Desktop':'Desktop','iPhone':'Mobile', 'iPad':'Mobile',\n",
    "                   'Android Phone':'SmartPhone (Other)', 'Android Phone':'Mobile', 'Android Tablet':'Mobile',\n",
    "                   'Desktop (Other)':'Desktop', 'SmartPhone (Other)':'Mobile', 'Other/Unknown':'unknown'}\n",
    "\n",
    "hotel['first_device_type'] = hotel['first_device_type'].replace(device_type_dict)\n",
    "print(hotel['first_device_type'].unique())"
   ]
  },
  {
   "cell_type": "code",
   "execution_count": 242,
   "metadata": {},
   "outputs": [
    {
     "data": {
      "image/png": "[encoded data removed]",
      "text/plain": [
       "<Figure size 1152x360 with 1 Axes>"
      ]
     },
     "metadata": {},
     "output_type": "display_data"
    }
   ],
   "source": [
    "# A visualization\n",
    "\n",
    "plt.figure(figsize=(16,5))\n",
    "sns.countplot(x='first_device_type', data=hotel, palette='rocket')\n",
    "plt.ylabel('')\n",
    "plt.xlabel('')\n",
    "plt.title('First Device Type', color='black',size= 18)\n",
    "plt.xticks(rotation= 60,size= 16)\n",
    "\n",
    "plt.show()"
   ]
  },
  {
   "cell_type": "markdown",
   "metadata": {},
   "source": [
    "# FIRST BROWSER"
   ]
  },
  {
   "cell_type": "code",
   "execution_count": 243,
   "metadata": {},
   "outputs": [
    {
     "name": "stdout",
     "output_type": "stream",
     "text": [
      "['IE' 'Firefox' 'Chrome' 'Safari' '-unknown-' 'Mobile Safari'\n",
      " 'Chrome Mobile' 'RockMelt' 'Chromium' 'Android Browser' 'AOL Explorer'\n",
      " 'Palm Pre web browser' 'Mobile Firefox' 'Opera' 'TenFourFox' 'IE Mobile'\n",
      " 'Apple Mail' 'Silk' 'Camino' 'Arora' 'BlackBerry Browser' 'SeaMonkey'\n",
      " 'Iron' 'Sogou Explorer' 'IceWeasel' 'Opera Mini' 'SiteKiosk' 'Maxthon'\n",
      " 'Kindle Browser' 'CoolNovo' 'Conkeror' 'wOSBrowser' 'Google Earth'\n",
      " 'Crazy Browser' 'Mozilla' 'OmniWeb' 'PS Vita browser' 'NetNewsWire'\n",
      " 'CometBird' 'Comodo Dragon' 'Flock' 'Pale Moon' 'Avant Browser'\n",
      " 'Opera Mobile' 'Yandex.Browser' 'TheWorld Browser' 'SlimBrowser' 'Epic'\n",
      " 'Stainless' 'Googlebot' 'Outlook 2007' 'IceDragon']\n",
      "\n",
      "count     213449\n",
      "unique        52\n",
      "top       Chrome\n",
      "freq       63843\n",
      "Name: first_browser, dtype: object\n"
     ]
    }
   ],
   "source": [
    "# Unique values\n",
    "\n",
    "print(hotel['first_browser'].unique())\n",
    "print()\n",
    "print(hotel['first_browser'].describe())"
   ]
  },
  {
   "cell_type": "code",
   "execution_count": 244,
   "metadata": {},
   "outputs": [
    {
     "name": "stdout",
     "output_type": "stream",
     "text": [
      "Chrome          0.299102\n",
      "Safari          0.211615\n",
      "Firefox         0.157672\n",
      "-unknown-       0.127740\n",
      "IE              0.098703\n",
      "                  ...   \n",
      "Google Earth    0.000005\n",
      "Stainless       0.000005\n",
      "Conkeror        0.000005\n",
      "NetNewsWire     0.000005\n",
      "Epic            0.000005\n",
      "Name: first_browser, Length: 52, dtype: float64\n"
     ]
    }
   ],
   "source": [
    "# Value distribution\n",
    "\n",
    "print(hotel['first_browser'].value_counts(normalize=True))"
   ]
  },
  {
   "cell_type": "code",
   "execution_count": 245,
   "metadata": {},
   "outputs": [
    {
     "name": "stdout",
     "output_type": "stream",
     "text": [
      "['IE' 'Firefox' 'Chrome' 'Safari' 'unknown' 'other']\n"
     ]
    }
   ],
   "source": [
    "# Simplification of low values\n",
    "\n",
    "browser_dictionary ={'Chrome Mobile':'other', 'RockMelt':'other', 'Chromium':'other', 'Android Browser':'other',\n",
    "                     'AOL Explorer':'other','Palm Pre web browser':'other', 'Mobile Firefox':'other', 'Opera':'other',\n",
    "                     'TenFourFox':'other', 'IE Mobile':'other','Apple Mail' :'other','Silk' :'other',\n",
    "                     'Camino' :'other','Arora' :'other','BlackBerry Browser':'other',\n",
    "                     'SeaMonkey':'other','Iron' :'other','Sogou Explorer':'other', 'IceWeasel' :'other',\n",
    "                     'Opera Mini' :'other','SiteKiosk':'other', 'Maxthon':'other','Kindle Browser':'other',\n",
    "                     'CoolNovo' :'other','Conkeror' :'other','wOSBrowser':'other', 'Google Earth':'other',\n",
    "                     'Crazy Browser':'other', 'Mozilla':'other', 'OmniWeb':'other', 'PS Vita browser':'other',\n",
    "                     'NetNewsWire':'other','CometBird':'other','Comodo Dragon' :'other',\n",
    "                     'Flock' :'other','Pale Moon' :'other','Avant Browser':'other', 'Opera Mobile' :'other',\n",
    "                     'Yandex.Browser':'other', 'TheWorld Browser':'other', 'SlimBrowser' :'other',\n",
    "                     'Epic':'other', 'Stainless':'other', 'Googlebot':'other',\n",
    "                     'Outlook 2007' :'other','IceDragon':'other', 'Mobile Safari':'other', '-unknown-':'unknown'}\n",
    "\n",
    "hotel['first_browser'] = hotel['first_browser'].replace(browser_dictionary)\n",
    "print(hotel['first_browser'].unique())"
   ]
  },
  {
   "cell_type": "code",
   "execution_count": 246,
   "metadata": {},
   "outputs": [
    {
     "data": {
      "image/png": "[encoded data removed]",
      "text/plain": [
       "<Figure size 1296x432 with 1 Axes>"
      ]
     },
     "metadata": {},
     "output_type": "display_data"
    }
   ],
   "source": [
    "# A visualisation\n",
    "\n",
    "plt.figure(figsize=(18,6))\n",
    "sns.countplot(x='first_browser', data=hotel, palette='deep')\n",
    "plt.ylabel('')\n",
    "plt.xlabel('')\n",
    "plt.title('First Used browser', color='black',size= 18)\n",
    "plt.xticks(rotation= 55,size= 14)\n",
    "plt.yticks(size=14)\n",
    "\n",
    "plt.show()"
   ]
  },
  {
   "cell_type": "markdown",
   "metadata": {},
   "source": [
    "# COUNTRY DESTINATION"
   ]
  },
  {
   "cell_type": "code",
   "execution_count": 247,
   "metadata": {},
   "outputs": [
    {
     "name": "stdout",
     "output_type": "stream",
     "text": [
      "['US' 'other' 'NDF' 'FR' 'CA' 'GB' 'ES' 'IT' 'PT' 'NL' 'DE' 'AU']\n",
      "\n",
      "count     213449\n",
      "unique        12\n",
      "top          NDF\n",
      "freq      124541\n",
      "Name: country_destination, dtype: object\n"
     ]
    }
   ],
   "source": [
    "# Unique values\n",
    "\n",
    "print(hotel['country_destination'].unique())\n",
    "print()\n",
    "print(hotel['country_destination'].describe())"
   ]
  },
  {
   "cell_type": "code",
   "execution_count": 248,
   "metadata": {},
   "outputs": [
    {
     "name": "stdout",
     "output_type": "stream",
     "text": [
      "NDF      0.583470\n",
      "US       0.292229\n",
      "other    0.047290\n",
      "FR       0.023533\n",
      "IT       0.013282\n",
      "           ...   \n",
      "CA       0.006690\n",
      "DE       0.004971\n",
      "NL       0.003570\n",
      "AU       0.002525\n",
      "PT       0.001017\n",
      "Name: country_destination, Length: 12, dtype: float64\n"
     ]
    }
   ],
   "source": [
    "# Value distribution\n",
    "\n",
    "print(hotel['country_destination'].value_counts(normalize=True))"
   ]
  },
  {
   "cell_type": "code",
   "execution_count": 249,
   "metadata": {},
   "outputs": [
    {
     "data": {
      "image/png": "[encoded data removed]",
      "text/plain": [
       "<Figure size 1296x432 with 1 Axes>"
      ]
     },
     "metadata": {},
     "output_type": "display_data"
    }
   ],
   "source": [
    "# Visualization\n",
    "plt.figure(figsize=(18,6))\n",
    "sns.countplot(x='country_destination', data=hotel, palette='deep')\n",
    "plt.ylabel('')\n",
    "plt.xlabel('')\n",
    "plt.title('Country Destination', color='black',size= 18)\n",
    "plt.xticks(rotation= 55,size= 14)\n",
    "plt.yticks(size=14)\n",
    "\n",
    "plt.show()"
   ]
  },
  {
   "cell_type": "code",
   "execution_count": 250,
   "metadata": {},
   "outputs": [],
   "source": [
    "# Creates a new file for the machine learning steps\n",
    "\n",
    "columns_for_csv = hotel.keys()\n",
    "clean = pd.DataFrame(hotel, columns=columns_for_csv)\n",
    "clean.to_csv('booking_cleaned.csv', index=False)"
   ]
  },
  {
   "cell_type": "code",
   "execution_count": 251,
   "metadata": {},
   "outputs": [
    {
     "data": {
      "text/html": [
       "<div>\n",
       "<style scoped>\n",
       "    .dataframe tbody tr th:only-of-type {\n",
       "        vertical-align: middle;\n",
       "    }\n",
       "\n",
       "    .dataframe tbody tr th {\n",
       "        vertical-align: top;\n",
       "    }\n",
       "\n",
       "    .dataframe thead th {\n",
       "        text-align: right;\n",
       "    }\n",
       "</style>\n",
       "<table border=\"1\" class=\"dataframe\">\n",
       "  <thead>\n",
       "    <tr style=\"text-align: right;\">\n",
       "      <th></th>\n",
       "      <th>id</th>\n",
       "      <th>date_account_created</th>\n",
       "      <th>timestamp_first_active</th>\n",
       "      <th>date_first_booking</th>\n",
       "      <th>gender</th>\n",
       "      <th>age</th>\n",
       "      <th>signup_method</th>\n",
       "      <th>signup_flow</th>\n",
       "      <th>language</th>\n",
       "      <th>affiliate_channel</th>\n",
       "      <th>affiliate_provider</th>\n",
       "      <th>first_affiliate_tracked</th>\n",
       "      <th>signup_app</th>\n",
       "      <th>first_device_type</th>\n",
       "      <th>first_browser</th>\n",
       "      <th>country_destination</th>\n",
       "    </tr>\n",
       "  </thead>\n",
       "  <tbody>\n",
       "    <tr>\n",
       "      <th>0</th>\n",
       "      <td>4ft3gnwmtx</td>\n",
       "      <td>2010-09-28</td>\n",
       "      <td>2009-06-09</td>\n",
       "      <td>2010-08-02</td>\n",
       "      <td>female</td>\n",
       "      <td>56.0</td>\n",
       "      <td>basic</td>\n",
       "      <td>3</td>\n",
       "      <td>en</td>\n",
       "      <td>direct</td>\n",
       "      <td>direct</td>\n",
       "      <td>untracked</td>\n",
       "      <td>DesktopOS</td>\n",
       "      <td>Desktop</td>\n",
       "      <td>IE</td>\n",
       "      <td>US</td>\n",
       "    </tr>\n",
       "    <tr>\n",
       "      <th>1</th>\n",
       "      <td>bjjt8pjhuk</td>\n",
       "      <td>2011-12-05</td>\n",
       "      <td>2009-10-31</td>\n",
       "      <td>2012-09-08</td>\n",
       "      <td>female</td>\n",
       "      <td>42.0</td>\n",
       "      <td>facebook</td>\n",
       "      <td>0</td>\n",
       "      <td>en</td>\n",
       "      <td>direct</td>\n",
       "      <td>direct</td>\n",
       "      <td>untracked</td>\n",
       "      <td>DesktopOS</td>\n",
       "      <td>Desktop</td>\n",
       "      <td>Firefox</td>\n",
       "      <td>other</td>\n",
       "    </tr>\n",
       "    <tr>\n",
       "      <th>2</th>\n",
       "      <td>87mebub9p4</td>\n",
       "      <td>2010-09-14</td>\n",
       "      <td>2009-12-08</td>\n",
       "      <td>2010-02-18</td>\n",
       "      <td>other</td>\n",
       "      <td>41.0</td>\n",
       "      <td>basic</td>\n",
       "      <td>0</td>\n",
       "      <td>en</td>\n",
       "      <td>direct</td>\n",
       "      <td>direct</td>\n",
       "      <td>untracked</td>\n",
       "      <td>DesktopOS</td>\n",
       "      <td>Desktop</td>\n",
       "      <td>Chrome</td>\n",
       "      <td>US</td>\n",
       "    </tr>\n",
       "    <tr>\n",
       "      <th>3</th>\n",
       "      <td>osr2jwljor</td>\n",
       "      <td>2010-01-01</td>\n",
       "      <td>2010-01-01</td>\n",
       "      <td>2010-01-02</td>\n",
       "      <td>other</td>\n",
       "      <td>34.0</td>\n",
       "      <td>basic</td>\n",
       "      <td>0</td>\n",
       "      <td>en</td>\n",
       "      <td>other</td>\n",
       "      <td>other</td>\n",
       "      <td>omg</td>\n",
       "      <td>DesktopOS</td>\n",
       "      <td>Desktop</td>\n",
       "      <td>Chrome</td>\n",
       "      <td>US</td>\n",
       "    </tr>\n",
       "    <tr>\n",
       "      <th>4</th>\n",
       "      <td>lsw9q7uk0j</td>\n",
       "      <td>2010-01-02</td>\n",
       "      <td>2010-01-02</td>\n",
       "      <td>2010-01-05</td>\n",
       "      <td>female</td>\n",
       "      <td>46.0</td>\n",
       "      <td>basic</td>\n",
       "      <td>0</td>\n",
       "      <td>en</td>\n",
       "      <td>other</td>\n",
       "      <td>craigslist</td>\n",
       "      <td>untracked</td>\n",
       "      <td>DesktopOS</td>\n",
       "      <td>Desktop</td>\n",
       "      <td>Safari</td>\n",
       "      <td>US</td>\n",
       "    </tr>\n",
       "  </tbody>\n",
       "</table>\n",
       "</div>"
      ],
      "text/plain": [
       "           id date_account_created timestamp_first_active date_first_booking  \\\n",
       "0  4ft3gnwmtx           2010-09-28             2009-06-09         2010-08-02   \n",
       "1  bjjt8pjhuk           2011-12-05             2009-10-31         2012-09-08   \n",
       "2  87mebub9p4           2010-09-14             2009-12-08         2010-02-18   \n",
       "3  osr2jwljor           2010-01-01             2010-01-01         2010-01-02   \n",
       "4  lsw9q7uk0j           2010-01-02             2010-01-02         2010-01-05   \n",
       "\n",
       "   gender   age signup_method  signup_flow language affiliate_channel  \\\n",
       "0  female  56.0         basic            3       en            direct   \n",
       "1  female  42.0      facebook            0       en            direct   \n",
       "2   other  41.0         basic            0       en            direct   \n",
       "3   other  34.0         basic            0       en             other   \n",
       "4  female  46.0         basic            0       en             other   \n",
       "\n",
       "  affiliate_provider first_affiliate_tracked signup_app first_device_type  \\\n",
       "0             direct               untracked  DesktopOS           Desktop   \n",
       "1             direct               untracked  DesktopOS           Desktop   \n",
       "2             direct               untracked  DesktopOS           Desktop   \n",
       "3              other                     omg  DesktopOS           Desktop   \n",
       "4         craigslist               untracked  DesktopOS           Desktop   \n",
       "\n",
       "  first_browser country_destination  \n",
       "0            IE                  US  \n",
       "1       Firefox               other  \n",
       "2        Chrome                  US  \n",
       "3        Chrome                  US  \n",
       "4        Safari                  US  "
      ]
     },
     "execution_count": 251,
     "metadata": {},
     "output_type": "execute_result"
    }
   ],
   "source": [
    "df = pd.read_csv('booking_cleaned.csv')\n",
    "df.head()"
   ]
  },
  {
   "cell_type": "markdown",
   "metadata": {},
   "source": [
    "\n",
    "A similar approach is applied to the second file 'session'\n"
   ]
  },
  {
   "cell_type": "code",
   "execution_count": 252,
   "metadata": {},
   "outputs": [
    {
     "data": {
      "text/html": [
       "<div>\n",
       "<style scoped>\n",
       "    .dataframe tbody tr th:only-of-type {\n",
       "        vertical-align: middle;\n",
       "    }\n",
       "\n",
       "    .dataframe tbody tr th {\n",
       "        vertical-align: top;\n",
       "    }\n",
       "\n",
       "    .dataframe thead th {\n",
       "        text-align: right;\n",
       "    }\n",
       "</style>\n",
       "<table border=\"1\" class=\"dataframe\">\n",
       "  <thead>\n",
       "    <tr style=\"text-align: right;\">\n",
       "      <th></th>\n",
       "      <th>user_id</th>\n",
       "      <th>action</th>\n",
       "      <th>action_type</th>\n",
       "      <th>action_detail</th>\n",
       "      <th>device_type</th>\n",
       "      <th>secs_elapsed</th>\n",
       "    </tr>\n",
       "  </thead>\n",
       "  <tbody>\n",
       "    <tr>\n",
       "      <th>0</th>\n",
       "      <td>d1mm9tcy42</td>\n",
       "      <td>lookup</td>\n",
       "      <td>NaN</td>\n",
       "      <td>NaN</td>\n",
       "      <td>Windows Desktop</td>\n",
       "      <td>319.0</td>\n",
       "    </tr>\n",
       "    <tr>\n",
       "      <th>1</th>\n",
       "      <td>d1mm9tcy42</td>\n",
       "      <td>search_results</td>\n",
       "      <td>click</td>\n",
       "      <td>view_search_results</td>\n",
       "      <td>Windows Desktop</td>\n",
       "      <td>67753.0</td>\n",
       "    </tr>\n",
       "    <tr>\n",
       "      <th>2</th>\n",
       "      <td>d1mm9tcy42</td>\n",
       "      <td>lookup</td>\n",
       "      <td>NaN</td>\n",
       "      <td>NaN</td>\n",
       "      <td>Windows Desktop</td>\n",
       "      <td>301.0</td>\n",
       "    </tr>\n",
       "    <tr>\n",
       "      <th>3</th>\n",
       "      <td>d1mm9tcy42</td>\n",
       "      <td>search_results</td>\n",
       "      <td>click</td>\n",
       "      <td>view_search_results</td>\n",
       "      <td>Windows Desktop</td>\n",
       "      <td>22141.0</td>\n",
       "    </tr>\n",
       "    <tr>\n",
       "      <th>4</th>\n",
       "      <td>d1mm9tcy42</td>\n",
       "      <td>lookup</td>\n",
       "      <td>NaN</td>\n",
       "      <td>NaN</td>\n",
       "      <td>Windows Desktop</td>\n",
       "      <td>435.0</td>\n",
       "    </tr>\n",
       "  </tbody>\n",
       "</table>\n",
       "</div>"
      ],
      "text/plain": [
       "      user_id          action action_type        action_detail  \\\n",
       "0  d1mm9tcy42          lookup         NaN                  NaN   \n",
       "1  d1mm9tcy42  search_results       click  view_search_results   \n",
       "2  d1mm9tcy42          lookup         NaN                  NaN   \n",
       "3  d1mm9tcy42  search_results       click  view_search_results   \n",
       "4  d1mm9tcy42          lookup         NaN                  NaN   \n",
       "\n",
       "       device_type  secs_elapsed  \n",
       "0  Windows Desktop         319.0  \n",
       "1  Windows Desktop       67753.0  \n",
       "2  Windows Desktop         301.0  \n",
       "3  Windows Desktop       22141.0  \n",
       "4  Windows Desktop         435.0  "
      ]
     },
     "execution_count": 252,
     "metadata": {},
     "output_type": "execute_result"
    }
   ],
   "source": [
    "session = pd.read_csv('sessions.csv') # Loading the file\n",
    "session.head()"
   ]
  },
  {
   "cell_type": "code",
   "execution_count": 253,
   "metadata": {},
   "outputs": [
    {
     "data": {
      "text/plain": [
       "(10567737, 6)"
      ]
     },
     "execution_count": 253,
     "metadata": {},
     "output_type": "execute_result"
    }
   ],
   "source": [
    "session.shape # Viewing the file shape"
   ]
  },
  {
   "cell_type": "code",
   "execution_count": 254,
   "metadata": {},
   "outputs": [
    {
     "data": {
      "text/plain": [
       "user_id            34496\n",
       "action             79626\n",
       "action_type      1126204\n",
       "action_detail    1126204\n",
       "device_type            0\n",
       "secs_elapsed      136031\n",
       "dtype: int64"
      ]
     },
     "execution_count": 254,
     "metadata": {},
     "output_type": "execute_result"
    }
   ],
   "source": [
    "# Look up for null total of null values in the date set\n",
    "session.isnull().sum()"
   ]
  },
  {
   "cell_type": "code",
   "execution_count": 255,
   "metadata": {},
   "outputs": [
    {
     "name": "stdout",
     "output_type": "stream",
     "text": [
      "    feature_name  nan_cnt  nan_percentage\n",
      "2    action_type  1126204        0.106570\n",
      "3  action_detail  1126204        0.106570\n",
      "5   secs_elapsed   136031        0.012872\n",
      "1         action    79626        0.007535\n",
      "0        user_id    34496        0.003264\n",
      "4    device_type        0        0.000000\n"
     ]
    }
   ],
   "source": [
    "# Check for percentage of null values in the data set\n",
    "\n",
    "nan_info = pd.DataFrame(session.isnull().sum()).reset_index()\n",
    "nan_info.columns = ['feature_name','nan_cnt']\n",
    "nan_info.sort_values(by = 'nan_cnt',ascending=False,inplace=True)\n",
    "nan_info['nan_percentage'] = nan_info['nan_cnt']/len(session)\n",
    "print(nan_info)"
   ]
  },
  {
   "cell_type": "markdown",
   "metadata": {},
   "source": [
    "# USER ID"
   ]
  },
  {
   "cell_type": "code",
   "execution_count": 256,
   "metadata": {},
   "outputs": [
    {
     "name": "stdout",
     "output_type": "stream",
     "text": [
      "mxqbh3ykxl    2722\n",
      "0hjoc5q8nf    2644\n",
      "mjbl6rrj52    2476\n",
      "l5lgm3w5pc    2424\n",
      "wg9413iaux    2362\n",
      "              ... \n",
      "a40qjms4zu       1\n",
      "5y8afixyb4       1\n",
      "kzyylpj2og       1\n",
      "zlovzkk884       1\n",
      "3km27jj7n1       1\n",
      "Name: user_id, Length: 135483, dtype: int64\n"
     ]
    }
   ],
   "source": [
    "# Distribution of values\n",
    "print(session['user_id'].value_counts())"
   ]
  },
  {
   "cell_type": "code",
   "execution_count": 257,
   "metadata": {},
   "outputs": [],
   "source": [
    "# There isn't a way to replace the missing id values and\n",
    "# it wil not be possible to join to together with the booking file,\n",
    "# those are dropped\n",
    "\n",
    "session['user_id'] = session.loc[session.user_id != 0, 'user_id']"
   ]
  },
  {
   "cell_type": "code",
   "execution_count": 258,
   "metadata": {},
   "outputs": [
    {
     "data": {
      "text/html": [
       "<div>\n",
       "<style scoped>\n",
       "    .dataframe tbody tr th:only-of-type {\n",
       "        vertical-align: middle;\n",
       "    }\n",
       "\n",
       "    .dataframe tbody tr th {\n",
       "        vertical-align: top;\n",
       "    }\n",
       "\n",
       "    .dataframe thead th {\n",
       "        text-align: right;\n",
       "    }\n",
       "</style>\n",
       "<table border=\"1\" class=\"dataframe\">\n",
       "  <thead>\n",
       "    <tr style=\"text-align: right;\">\n",
       "      <th></th>\n",
       "      <th>action</th>\n",
       "      <th>action_type</th>\n",
       "      <th>action_detail</th>\n",
       "      <th>device_type</th>\n",
       "      <th>secs_elapsed</th>\n",
       "      <th>id</th>\n",
       "    </tr>\n",
       "  </thead>\n",
       "  <tbody>\n",
       "    <tr>\n",
       "      <th>0</th>\n",
       "      <td>lookup</td>\n",
       "      <td>NaN</td>\n",
       "      <td>NaN</td>\n",
       "      <td>Windows Desktop</td>\n",
       "      <td>319.0</td>\n",
       "      <td>d1mm9tcy42</td>\n",
       "    </tr>\n",
       "    <tr>\n",
       "      <th>1</th>\n",
       "      <td>search_results</td>\n",
       "      <td>click</td>\n",
       "      <td>view_search_results</td>\n",
       "      <td>Windows Desktop</td>\n",
       "      <td>67753.0</td>\n",
       "      <td>d1mm9tcy42</td>\n",
       "    </tr>\n",
       "    <tr>\n",
       "      <th>2</th>\n",
       "      <td>lookup</td>\n",
       "      <td>NaN</td>\n",
       "      <td>NaN</td>\n",
       "      <td>Windows Desktop</td>\n",
       "      <td>301.0</td>\n",
       "      <td>d1mm9tcy42</td>\n",
       "    </tr>\n",
       "    <tr>\n",
       "      <th>3</th>\n",
       "      <td>search_results</td>\n",
       "      <td>click</td>\n",
       "      <td>view_search_results</td>\n",
       "      <td>Windows Desktop</td>\n",
       "      <td>22141.0</td>\n",
       "      <td>d1mm9tcy42</td>\n",
       "    </tr>\n",
       "    <tr>\n",
       "      <th>4</th>\n",
       "      <td>lookup</td>\n",
       "      <td>NaN</td>\n",
       "      <td>NaN</td>\n",
       "      <td>Windows Desktop</td>\n",
       "      <td>435.0</td>\n",
       "      <td>d1mm9tcy42</td>\n",
       "    </tr>\n",
       "  </tbody>\n",
       "</table>\n",
       "</div>"
      ],
      "text/plain": [
       "           action action_type        action_detail      device_type  \\\n",
       "0          lookup         NaN                  NaN  Windows Desktop   \n",
       "1  search_results       click  view_search_results  Windows Desktop   \n",
       "2          lookup         NaN                  NaN  Windows Desktop   \n",
       "3  search_results       click  view_search_results  Windows Desktop   \n",
       "4          lookup         NaN                  NaN  Windows Desktop   \n",
       "\n",
       "   secs_elapsed          id  \n",
       "0         319.0  d1mm9tcy42  \n",
       "1       67753.0  d1mm9tcy42  \n",
       "2         301.0  d1mm9tcy42  \n",
       "3       22141.0  d1mm9tcy42  \n",
       "4         435.0  d1mm9tcy42  "
      ]
     },
     "execution_count": 258,
     "metadata": {},
     "output_type": "execute_result"
    }
   ],
   "source": [
    "# Renaming the for a value to match with booking file\n",
    "\n",
    "session['id'] = session['user_id']\n",
    "session.drop('user_id', axis=1, inplace=True)\n",
    "session.head()"
   ]
  },
  {
   "cell_type": "markdown",
   "metadata": {},
   "source": [
    "# ACTION"
   ]
  },
  {
   "cell_type": "code",
   "execution_count": 259,
   "metadata": {},
   "outputs": [
    {
     "name": "stdout",
     "output_type": "stream",
     "text": [
      "79626\n"
     ]
    }
   ],
   "source": [
    "print(session.action.isnull().sum()) # Checking for null values in 'action'"
   ]
  },
  {
   "cell_type": "code",
   "execution_count": 260,
   "metadata": {},
   "outputs": [
    {
     "name": "stdout",
     "output_type": "stream",
     "text": [
      "show                         2768278\n",
      "index                         843699\n",
      "search_results                725226\n",
      "personalize                   706824\n",
      "search                        536057\n",
      "                              ...   \n",
      "nyan                               1\n",
      "events                             1\n",
      "plaxo_cb                           1\n",
      "set_minimum_payout_amount          1\n",
      "revert_to_admin                    1\n",
      "Name: action, Length: 359, dtype: int64\n"
     ]
    }
   ],
   "source": [
    "print(session.action.value_counts()) # Displaying the value distribution"
   ]
  },
  {
   "cell_type": "code",
   "execution_count": 261,
   "metadata": {},
   "outputs": [
    {
     "name": "stdout",
     "output_type": "stream",
     "text": [
      "0\n"
     ]
    }
   ],
   "source": [
    "# The missing values are filled with unknown\n",
    "\n",
    "session['action'] = session['action'].fillna(value='unknown')\n",
    "print(session.action.isnull().sum())"
   ]
  },
  {
   "cell_type": "markdown",
   "metadata": {},
   "source": [
    "# ACTION"
   ]
  },
  {
   "cell_type": "code",
   "execution_count": 262,
   "metadata": {},
   "outputs": [
    {
     "name": "stdout",
     "output_type": "stream",
     "text": [
      "0\n"
     ]
    }
   ],
   "source": [
    "print(session.action.isnull().sum()) # Checking for null values in 'action'"
   ]
  },
  {
   "cell_type": "code",
   "execution_count": 263,
   "metadata": {},
   "outputs": [
    {
     "name": "stdout",
     "output_type": "stream",
     "text": [
      "show                         2768278\n",
      "index                         843699\n",
      "search_results                725226\n",
      "personalize                   706824\n",
      "search                        536057\n",
      "                              ...   \n",
      "plaxo_cb                           1\n",
      "deactivate                         1\n",
      "sldf                               1\n",
      "desks                              1\n",
      "set_minimum_payout_amount          1\n",
      "Name: action, Length: 360, dtype: int64\n"
     ]
    }
   ],
   "source": [
    "print(session.action.value_counts()) # Displaying the value distribution"
   ]
  },
  {
   "cell_type": "code",
   "execution_count": 264,
   "metadata": {},
   "outputs": [
    {
     "name": "stdout",
     "output_type": "stream",
     "text": [
      "0\n"
     ]
    }
   ],
   "source": [
    "# The missing values are filled with unknown\n",
    "\n",
    "session['action'] = session['action'].fillna(value='unknown')\n",
    "print(session.action.isnull().sum())"
   ]
  },
  {
   "cell_type": "markdown",
   "metadata": {},
   "source": [
    "# ACTION TYPE"
   ]
  },
  {
   "cell_type": "code",
   "execution_count": 265,
   "metadata": {},
   "outputs": [
    {
     "name": "stdout",
     "output_type": "stream",
     "text": [
      "view                3560902\n",
      "data                2103770\n",
      "click               1996183\n",
      "-unknown-           1031170\n",
      "submit               623357\n",
      "message_post          87103\n",
      "partner_callback      19132\n",
      "booking_request       18773\n",
      "modify                 1139\n",
      "booking_response          4\n",
      "Name: action_type, dtype: int64\n"
     ]
    }
   ],
   "source": [
    "print(session.action_type.value_counts()) # Displaying the value distribution"
   ]
  },
  {
   "cell_type": "code",
   "execution_count": 266,
   "metadata": {},
   "outputs": [
    {
     "name": "stdout",
     "output_type": "stream",
     "text": [
      "1126204\n"
     ]
    }
   ],
   "source": [
    "print(session.action_type.isnull().sum()) # Checking for null values"
   ]
  },
  {
   "cell_type": "code",
   "execution_count": 267,
   "metadata": {},
   "outputs": [
    {
     "name": "stdout",
     "output_type": "stream",
     "text": [
      "['unknown' 'click' 'data' 'view' 'submit' 'message_post' 'booking_request'\n",
      " 'partner_callback' 'booking_response' 'modify']\n",
      "None\n"
     ]
    }
   ],
   "source": [
    "# Correcting the format, for one type of unknown and filling the missing values\n",
    "\n",
    "session['action_type'] = session['action_type'].str.replace('-unknown-','unknown')\n",
    "session['action_type'] = session['action_type'].fillna(value='unknown')\n",
    "print(print(session['action_type'].unique()))"
   ]
  },
  {
   "cell_type": "code",
   "execution_count": 268,
   "metadata": {},
   "outputs": [
    {
     "name": "stdout",
     "output_type": "stream",
     "text": [
      "0\n"
     ]
    }
   ],
   "source": [
    "print(session['action_type'].isnull().sum())"
   ]
  },
  {
   "cell_type": "code",
   "execution_count": 269,
   "metadata": {},
   "outputs": [
    {
     "data": {
      "image/png": "[encoded data removed]",
      "text/plain": [
       "<Figure size 1296x432 with 1 Axes>"
      ]
     },
     "metadata": {},
     "output_type": "display_data"
    }
   ],
   "source": [
    "# A visualization\n",
    "\n",
    "plt.figure(figsize=(18,6))\n",
    "sns.countplot(x='action_type', data=session, palette='deep')\n",
    "plt.ylabel('')\n",
    "plt.xlabel('')\n",
    "plt.title('Action Type', color='black',size= 18)\n",
    "plt.xticks(rotation= 55,size= 14)\n",
    "plt.yticks(size=14)\n",
    "plt.show()"
   ]
  },
  {
   "cell_type": "markdown",
   "metadata": {},
   "source": [
    "# ACTION DETAIL"
   ]
  },
  {
   "cell_type": "code",
   "execution_count": 270,
   "metadata": {},
   "outputs": [
    {
     "name": "stdout",
     "output_type": "stream",
     "text": [
      "count                 9441533\n",
      "unique                    155\n",
      "top       view_search_results\n",
      "freq                  1776885\n",
      "Name: action_detail, dtype: object\n"
     ]
    }
   ],
   "source": [
    "print(session.action_detail.describe())"
   ]
  },
  {
   "cell_type": "code",
   "execution_count": 271,
   "metadata": {},
   "outputs": [
    {
     "name": "stdout",
     "output_type": "stream",
     "text": [
      "1126204\n"
     ]
    }
   ],
   "source": [
    "print(session.action_detail.isnull().sum()) # Checking for null values"
   ]
  },
  {
   "cell_type": "code",
   "execution_count": 272,
   "metadata": {},
   "outputs": [
    {
     "name": "stdout",
     "output_type": "stream",
     "text": [
      "view_search_results         1776885\n",
      "p3                          1376550\n",
      "-unknown-                   1031141\n",
      "wishlist_content_update      706824\n",
      "user_profile                 656839\n",
      "                             ...   \n",
      "special_offer_field               3\n",
      "host_refund_guest                 2\n",
      "tos_2014                          2\n",
      "host_respond_page                 2\n",
      "host_standard_suspension          1\n",
      "Name: action_detail, Length: 155, dtype: int64\n"
     ]
    }
   ],
   "source": [
    "print(session.action_detail.value_counts()) # Displaying the value distribution"
   ]
  },
  {
   "cell_type": "markdown",
   "metadata": {},
   "source": [
    "At first, I wanted to simplify the action details and create a list of the main action but there are too many unique values. It was done partially manualy and became very time consuming."
   ]
  },
  {
   "cell_type": "code",
   "execution_count": 273,
   "metadata": {},
   "outputs": [
    {
     "name": "stdout",
     "output_type": "stream",
     "text": [
      "0\n"
     ]
    }
   ],
   "source": [
    "# The missing values are filled with unknown category\n",
    "\n",
    "session['action_detail'] = session['action_detail'].fillna(value='unknown').astype('category')\n",
    "print(session['action_detail'].isnull().sum())"
   ]
  },
  {
   "cell_type": "markdown",
   "metadata": {},
   "source": [
    "# DEVICE TYPE"
   ]
  },
  {
   "cell_type": "code",
   "execution_count": 274,
   "metadata": {},
   "outputs": [
    {
     "name": "stdout",
     "output_type": "stream",
     "text": [
      "0\n"
     ]
    }
   ],
   "source": [
    "print(session.device_type.isnull().sum())  # Checking for null values"
   ]
  },
  {
   "cell_type": "code",
   "execution_count": 275,
   "metadata": {},
   "outputs": [
    {
     "name": "stdout",
     "output_type": "stream",
     "text": [
      "['Windows Desktop' '-unknown-' 'Mac Desktop' 'Android Phone' 'iPhone'\n",
      " 'iPad Tablet' 'Android App Unknown Phone/Tablet' 'Linux Desktop' 'Tablet'\n",
      " 'Chromebook' 'Blackberry' 'iPodtouch' 'Windows Phone' 'Opera Phone']\n"
     ]
    }
   ],
   "source": [
    "print(session['device_type'].unique()) # Unique values"
   ]
  },
  {
   "cell_type": "code",
   "execution_count": 276,
   "metadata": {},
   "outputs": [
    {
     "name": "stdout",
     "output_type": "stream",
     "text": [
      "Mac Desktop        0.340119\n",
      "Windows Desktop    0.251571\n",
      "iPhone             0.199194\n",
      "Android Phone      0.079453\n",
      "iPad Tablet        0.064670\n",
      "                     ...   \n",
      "Chromebook         0.002115\n",
      "iPodtouch          0.000776\n",
      "Windows Phone      0.000194\n",
      "Blackberry         0.000093\n",
      "Opera Phone        0.000006\n",
      "Name: device_type, Length: 14, dtype: float64\n"
     ]
    }
   ],
   "source": [
    "print(session['device_type'].value_counts(normalize=True))  # Displaying the value distribution"
   ]
  },
  {
   "cell_type": "code",
   "execution_count": 277,
   "metadata": {},
   "outputs": [
    {
     "name": "stdout",
     "output_type": "stream",
     "text": [
      "['Windows Desktop' 'unknown' 'Mac Desktop' 'Android Phone' 'iPhone'\n",
      " 'iPad Tablet' 'Android App Unknown Phone/Tablet' 'Linux Desktop' 'Tablet'\n",
      " 'Chromebook' 'Blackberry' 'iPodtouch' 'Windows Phone' 'Opera Phone']\n"
     ]
    }
   ],
   "source": [
    "# Correcting the format, for one type of unknown and filling the missing values\n",
    "\n",
    "session['device_type'] = session['device_type'].str.replace('-unknown-','unknown')\n",
    "print(session['device_type'].unique())"
   ]
  },
  {
   "cell_type": "code",
   "execution_count": 278,
   "metadata": {},
   "outputs": [
    {
     "name": "stdout",
     "output_type": "stream",
     "text": [
      "['Desktop' 'unknown' 'Mobile']\n"
     ]
    }
   ],
   "source": [
    "# A dictionary to create two types of categories to simplify: mobile, desktop and unknown\n",
    "\n",
    "mapping_dict = {'Windows Desktop':'Desktop', 'unknown':'unknown', 'Mac Desktop': 'Desktop',\n",
    "               'Android Phone':'Mobile','iPad Tablet':'Mobile', 'Android App Unknown Phone/Tablet':'Mobile',\n",
    "               'Linux Desktop':'Desktop', 'Tablet':'Mobile','Chromebook':'Desktop','Blackberry':'Mobile',\n",
    "               'iPodtouch':'Mobile', 'Windows Phone':'Mobile','Opera Phone':'Mobile',\n",
    "               'iPhone':'Mobile'}\n",
    "\n",
    "session['device_type'] = session['device_type'].replace(mapping_dict)\n",
    "print(session['device_type'].unique()) # new unique values"
   ]
  },
  {
   "cell_type": "code",
   "execution_count": 279,
   "metadata": {},
   "outputs": [
    {
     "data": {
      "text/plain": [
       "(array([      0., 1000000., 2000000., 3000000., 4000000., 5000000.,\n",
       "        6000000., 7000000.]),\n",
       " <a list of 8 Text yticklabel objects>)"
      ]
     },
     "execution_count": 279,
     "metadata": {},
     "output_type": "execute_result"
    },
    {
     "data": {
      "image/png": "[encoded data removed]",
      "text/plain": [
       "<Figure size 1296x432 with 1 Axes>"
      ]
     },
     "metadata": {},
     "output_type": "display_data"
    }
   ],
   "source": [
    "# A visualization\n",
    "\n",
    "plt.figure(figsize=(18,6))\n",
    "sns.countplot(x='device_type', data=session, palette='deep')\n",
    "plt.ylabel('')\n",
    "plt.xlabel('')\n",
    "plt.title('Used Devices', color='black',size= 18)\n",
    "plt.xticks(rotation= 55,size= 14)\n",
    "plt.yticks(size=14)\n",
    "#plt.show()"
   ]
  },
  {
   "cell_type": "markdown",
   "metadata": {},
   "source": [
    "To be able to join the session the it is grouped by id and will allow to create some features. "
   ]
  },
  {
   "cell_type": "code",
   "execution_count": 280,
   "metadata": {},
   "outputs": [],
   "source": [
    "agg_dict={\n",
    "    'action':['nunique'],'action_detail':['nunique'],'action_type':['nunique'],'device_type':['nunique'],\n",
    "    'secs_elapsed':['min','max','sum','mean','median','std']}\n",
    "\n",
    "# The categorical columns are aggregated and their types as number of unique actions,\n",
    "# also secs_elapsed as a feature insight"
   ]
  },
  {
   "cell_type": "code",
   "execution_count": 281,
   "metadata": {},
   "outputs": [],
   "source": [
    "agged = session.groupby(['id']).agg(agg_dict) # Group by"
   ]
  },
  {
   "cell_type": "code",
   "execution_count": 282,
   "metadata": {},
   "outputs": [],
   "source": [
    "agged.columns = agged.columns.droplevel(0) # Treats the multilevel column name"
   ]
  },
  {
   "cell_type": "code",
   "execution_count": 283,
   "metadata": {},
   "outputs": [
    {
     "data": {
      "text/html": [
       "<div>\n",
       "<style scoped>\n",
       "    .dataframe tbody tr th:only-of-type {\n",
       "        vertical-align: middle;\n",
       "    }\n",
       "\n",
       "    .dataframe tbody tr th {\n",
       "        vertical-align: top;\n",
       "    }\n",
       "\n",
       "    .dataframe thead th {\n",
       "        text-align: right;\n",
       "    }\n",
       "</style>\n",
       "<table border=\"1\" class=\"dataframe\">\n",
       "  <thead>\n",
       "    <tr style=\"text-align: right;\">\n",
       "      <th></th>\n",
       "      <th>action_nunique</th>\n",
       "      <th>action_type_nunique</th>\n",
       "      <th>action_detail_nunique</th>\n",
       "      <th>device_type_nunique</th>\n",
       "      <th>min_secs_elapsed</th>\n",
       "      <th>max_secs_elapsed</th>\n",
       "      <th>sum_secs_elapsed</th>\n",
       "      <th>mean_secs_elapsed</th>\n",
       "      <th>median_secs_elapsed</th>\n",
       "      <th>std_secs_elapsed</th>\n",
       "    </tr>\n",
       "    <tr>\n",
       "      <th>id</th>\n",
       "      <th></th>\n",
       "      <th></th>\n",
       "      <th></th>\n",
       "      <th></th>\n",
       "      <th></th>\n",
       "      <th></th>\n",
       "      <th></th>\n",
       "      <th></th>\n",
       "      <th></th>\n",
       "      <th></th>\n",
       "    </tr>\n",
       "  </thead>\n",
       "  <tbody>\n",
       "    <tr>\n",
       "      <th>00023iyk9l</th>\n",
       "      <td>14</td>\n",
       "      <td>14</td>\n",
       "      <td>7</td>\n",
       "      <td>2</td>\n",
       "      <td>0.0</td>\n",
       "      <td>567165.0</td>\n",
       "      <td>867896.0</td>\n",
       "      <td>22253.743590</td>\n",
       "      <td>850.0</td>\n",
       "      <td>92242.561900</td>\n",
       "    </tr>\n",
       "    <tr>\n",
       "      <th>0010k6l0om</th>\n",
       "      <td>11</td>\n",
       "      <td>9</td>\n",
       "      <td>5</td>\n",
       "      <td>1</td>\n",
       "      <td>3.0</td>\n",
       "      <td>127898.0</td>\n",
       "      <td>586543.0</td>\n",
       "      <td>9460.370968</td>\n",
       "      <td>948.5</td>\n",
       "      <td>22751.227918</td>\n",
       "    </tr>\n",
       "    <tr>\n",
       "      <th>001wyh0pz8</th>\n",
       "      <td>10</td>\n",
       "      <td>10</td>\n",
       "      <td>5</td>\n",
       "      <td>1</td>\n",
       "      <td>35.0</td>\n",
       "      <td>50548.0</td>\n",
       "      <td>282965.0</td>\n",
       "      <td>3179.382022</td>\n",
       "      <td>1105.0</td>\n",
       "      <td>6569.648182</td>\n",
       "    </tr>\n",
       "    <tr>\n",
       "      <th>0028jgx1x1</th>\n",
       "      <td>5</td>\n",
       "      <td>6</td>\n",
       "      <td>5</td>\n",
       "      <td>2</td>\n",
       "      <td>3.0</td>\n",
       "      <td>84636.0</td>\n",
       "      <td>297010.0</td>\n",
       "      <td>9900.333333</td>\n",
       "      <td>1614.0</td>\n",
       "      <td>18004.964337</td>\n",
       "    </tr>\n",
       "    <tr>\n",
       "      <th>002qnbzfs5</th>\n",
       "      <td>26</td>\n",
       "      <td>23</td>\n",
       "      <td>7</td>\n",
       "      <td>2</td>\n",
       "      <td>0.0</td>\n",
       "      <td>1418284.0</td>\n",
       "      <td>6487080.0</td>\n",
       "      <td>8232.335025</td>\n",
       "      <td>498.0</td>\n",
       "      <td>58110.646170</td>\n",
       "    </tr>\n",
       "  </tbody>\n",
       "</table>\n",
       "</div>"
      ],
      "text/plain": [
       "            action_nunique  action_type_nunique  action_detail_nunique  \\\n",
       "id                                                                       \n",
       "00023iyk9l              14                   14                      7   \n",
       "0010k6l0om              11                    9                      5   \n",
       "001wyh0pz8              10                   10                      5   \n",
       "0028jgx1x1               5                    6                      5   \n",
       "002qnbzfs5              26                   23                      7   \n",
       "\n",
       "            device_type_nunique  min_secs_elapsed  max_secs_elapsed  \\\n",
       "id                                                                    \n",
       "00023iyk9l                    2               0.0          567165.0   \n",
       "0010k6l0om                    1               3.0          127898.0   \n",
       "001wyh0pz8                    1              35.0           50548.0   \n",
       "0028jgx1x1                    2               3.0           84636.0   \n",
       "002qnbzfs5                    2               0.0         1418284.0   \n",
       "\n",
       "            sum_secs_elapsed  mean_secs_elapsed  median_secs_elapsed  \\\n",
       "id                                                                     \n",
       "00023iyk9l          867896.0       22253.743590                850.0   \n",
       "0010k6l0om          586543.0        9460.370968                948.5   \n",
       "001wyh0pz8          282965.0        3179.382022               1105.0   \n",
       "0028jgx1x1          297010.0        9900.333333               1614.0   \n",
       "002qnbzfs5         6487080.0        8232.335025                498.0   \n",
       "\n",
       "            std_secs_elapsed  \n",
       "id                            \n",
       "00023iyk9l      92242.561900  \n",
       "0010k6l0om      22751.227918  \n",
       "001wyh0pz8       6569.648182  \n",
       "0028jgx1x1      18004.964337  \n",
       "002qnbzfs5      58110.646170  "
      ]
     },
     "execution_count": 283,
     "metadata": {},
     "output_type": "execute_result"
    }
   ],
   "source": [
    "# Change of the column names into a understandable way\n",
    "agged.keys().values[[0,1,2,3,4,5,6,7,8,9]] = ['action_nunique','action_type_nunique','action_detail_nunique',\n",
    "                                  'device_type_nunique','min_secs_elapsed','max_secs_elapsed',\n",
    "                                 'sum_secs_elapsed','mean_secs_elapsed','median_secs_elapsed',\n",
    "                                 'std_secs_elapsed']\n",
    "agged.head()"
   ]
  },
  {
   "cell_type": "code",
   "execution_count": 284,
   "metadata": {},
   "outputs": [],
   "source": [
    "agged_column_names = agged.keys() # Columns for cleaned csv\n",
    "\n",
    "session_cleaned = pd.DataFrame(agged, columns=agged_column_names) # Creates a new csv file\n",
    "session_cleaned.to_csv('session_cleaned.csv', index=True)"
   ]
  },
  {
   "cell_type": "code",
   "execution_count": 285,
   "metadata": {},
   "outputs": [
    {
     "data": {
      "text/html": [
       "<div>\n",
       "<style scoped>\n",
       "    .dataframe tbody tr th:only-of-type {\n",
       "        vertical-align: middle;\n",
       "    }\n",
       "\n",
       "    .dataframe tbody tr th {\n",
       "        vertical-align: top;\n",
       "    }\n",
       "\n",
       "    .dataframe thead th {\n",
       "        text-align: right;\n",
       "    }\n",
       "</style>\n",
       "<table border=\"1\" class=\"dataframe\">\n",
       "  <thead>\n",
       "    <tr style=\"text-align: right;\">\n",
       "      <th></th>\n",
       "      <th>id</th>\n",
       "      <th>action_nunique</th>\n",
       "      <th>action_type_nunique</th>\n",
       "      <th>action_detail_nunique</th>\n",
       "      <th>device_type_nunique</th>\n",
       "      <th>min_secs_elapsed</th>\n",
       "      <th>max_secs_elapsed</th>\n",
       "      <th>sum_secs_elapsed</th>\n",
       "      <th>mean_secs_elapsed</th>\n",
       "      <th>median_secs_elapsed</th>\n",
       "      <th>std_secs_elapsed</th>\n",
       "    </tr>\n",
       "  </thead>\n",
       "  <tbody>\n",
       "    <tr>\n",
       "      <th>0</th>\n",
       "      <td>00023iyk9l</td>\n",
       "      <td>14</td>\n",
       "      <td>14</td>\n",
       "      <td>7</td>\n",
       "      <td>2</td>\n",
       "      <td>0.0</td>\n",
       "      <td>567165.0</td>\n",
       "      <td>867896.0</td>\n",
       "      <td>22253.743590</td>\n",
       "      <td>850.0</td>\n",
       "      <td>92242.561900</td>\n",
       "    </tr>\n",
       "    <tr>\n",
       "      <th>1</th>\n",
       "      <td>0010k6l0om</td>\n",
       "      <td>11</td>\n",
       "      <td>9</td>\n",
       "      <td>5</td>\n",
       "      <td>1</td>\n",
       "      <td>3.0</td>\n",
       "      <td>127898.0</td>\n",
       "      <td>586543.0</td>\n",
       "      <td>9460.370968</td>\n",
       "      <td>948.5</td>\n",
       "      <td>22751.227918</td>\n",
       "    </tr>\n",
       "    <tr>\n",
       "      <th>2</th>\n",
       "      <td>001wyh0pz8</td>\n",
       "      <td>10</td>\n",
       "      <td>10</td>\n",
       "      <td>5</td>\n",
       "      <td>1</td>\n",
       "      <td>35.0</td>\n",
       "      <td>50548.0</td>\n",
       "      <td>282965.0</td>\n",
       "      <td>3179.382022</td>\n",
       "      <td>1105.0</td>\n",
       "      <td>6569.648182</td>\n",
       "    </tr>\n",
       "    <tr>\n",
       "      <th>3</th>\n",
       "      <td>0028jgx1x1</td>\n",
       "      <td>5</td>\n",
       "      <td>6</td>\n",
       "      <td>5</td>\n",
       "      <td>2</td>\n",
       "      <td>3.0</td>\n",
       "      <td>84636.0</td>\n",
       "      <td>297010.0</td>\n",
       "      <td>9900.333333</td>\n",
       "      <td>1614.0</td>\n",
       "      <td>18004.964337</td>\n",
       "    </tr>\n",
       "    <tr>\n",
       "      <th>4</th>\n",
       "      <td>002qnbzfs5</td>\n",
       "      <td>26</td>\n",
       "      <td>23</td>\n",
       "      <td>7</td>\n",
       "      <td>2</td>\n",
       "      <td>0.0</td>\n",
       "      <td>1418284.0</td>\n",
       "      <td>6487080.0</td>\n",
       "      <td>8232.335025</td>\n",
       "      <td>498.0</td>\n",
       "      <td>58110.646170</td>\n",
       "    </tr>\n",
       "  </tbody>\n",
       "</table>\n",
       "</div>"
      ],
      "text/plain": [
       "           id  action_nunique  action_type_nunique  action_detail_nunique  \\\n",
       "0  00023iyk9l              14                   14                      7   \n",
       "1  0010k6l0om              11                    9                      5   \n",
       "2  001wyh0pz8              10                   10                      5   \n",
       "3  0028jgx1x1               5                    6                      5   \n",
       "4  002qnbzfs5              26                   23                      7   \n",
       "\n",
       "   device_type_nunique  min_secs_elapsed  max_secs_elapsed  sum_secs_elapsed  \\\n",
       "0                    2               0.0          567165.0          867896.0   \n",
       "1                    1               3.0          127898.0          586543.0   \n",
       "2                    1              35.0           50548.0          282965.0   \n",
       "3                    2               3.0           84636.0          297010.0   \n",
       "4                    2               0.0         1418284.0         6487080.0   \n",
       "\n",
       "   mean_secs_elapsed  median_secs_elapsed  std_secs_elapsed  \n",
       "0       22253.743590                850.0      92242.561900  \n",
       "1        9460.370968                948.5      22751.227918  \n",
       "2        3179.382022               1105.0       6569.648182  \n",
       "3        9900.333333               1614.0      18004.964337  \n",
       "4        8232.335025                498.0      58110.646170  "
      ]
     },
     "execution_count": 285,
     "metadata": {},
     "output_type": "execute_result"
    }
   ],
   "source": [
    "df = pd.read_csv('session_cleaned.csv') # A look at the newly created file\n",
    "df.head()"
   ]
  },
  {
   "cell_type": "markdown",
   "metadata": {},
   "source": [
    "MAIN PIPELINE "
   ]
  },
  {
   "cell_type": "code",
   "execution_count": 286,
   "metadata": {},
   "outputs": [],
   "source": [
    "booking = pd.read_csv('booking_cleaned.csv') # Loading both files\n",
    "session = pd.read_csv('session_cleaned.csv')"
   ]
  },
  {
   "cell_type": "code",
   "execution_count": 287,
   "metadata": {},
   "outputs": [
    {
     "data": {
      "text/html": [
       "<div>\n",
       "<style scoped>\n",
       "    .dataframe tbody tr th:only-of-type {\n",
       "        vertical-align: middle;\n",
       "    }\n",
       "\n",
       "    .dataframe tbody tr th {\n",
       "        vertical-align: top;\n",
       "    }\n",
       "\n",
       "    .dataframe thead th {\n",
       "        text-align: right;\n",
       "    }\n",
       "</style>\n",
       "<table border=\"1\" class=\"dataframe\">\n",
       "  <thead>\n",
       "    <tr style=\"text-align: right;\">\n",
       "      <th></th>\n",
       "      <th>id</th>\n",
       "      <th>date_account_created</th>\n",
       "      <th>timestamp_first_active</th>\n",
       "      <th>date_first_booking</th>\n",
       "      <th>gender</th>\n",
       "      <th>age</th>\n",
       "      <th>signup_method</th>\n",
       "      <th>signup_flow</th>\n",
       "      <th>language</th>\n",
       "      <th>affiliate_channel</th>\n",
       "      <th>affiliate_provider</th>\n",
       "      <th>first_affiliate_tracked</th>\n",
       "      <th>signup_app</th>\n",
       "      <th>first_device_type</th>\n",
       "      <th>first_browser</th>\n",
       "      <th>country_destination</th>\n",
       "    </tr>\n",
       "  </thead>\n",
       "  <tbody>\n",
       "    <tr>\n",
       "      <th>0</th>\n",
       "      <td>4ft3gnwmtx</td>\n",
       "      <td>2010-09-28</td>\n",
       "      <td>2009-06-09</td>\n",
       "      <td>2010-08-02</td>\n",
       "      <td>female</td>\n",
       "      <td>56.0</td>\n",
       "      <td>basic</td>\n",
       "      <td>3</td>\n",
       "      <td>en</td>\n",
       "      <td>direct</td>\n",
       "      <td>direct</td>\n",
       "      <td>untracked</td>\n",
       "      <td>DesktopOS</td>\n",
       "      <td>Desktop</td>\n",
       "      <td>IE</td>\n",
       "      <td>US</td>\n",
       "    </tr>\n",
       "    <tr>\n",
       "      <th>1</th>\n",
       "      <td>bjjt8pjhuk</td>\n",
       "      <td>2011-12-05</td>\n",
       "      <td>2009-10-31</td>\n",
       "      <td>2012-09-08</td>\n",
       "      <td>female</td>\n",
       "      <td>42.0</td>\n",
       "      <td>facebook</td>\n",
       "      <td>0</td>\n",
       "      <td>en</td>\n",
       "      <td>direct</td>\n",
       "      <td>direct</td>\n",
       "      <td>untracked</td>\n",
       "      <td>DesktopOS</td>\n",
       "      <td>Desktop</td>\n",
       "      <td>Firefox</td>\n",
       "      <td>other</td>\n",
       "    </tr>\n",
       "    <tr>\n",
       "      <th>2</th>\n",
       "      <td>87mebub9p4</td>\n",
       "      <td>2010-09-14</td>\n",
       "      <td>2009-12-08</td>\n",
       "      <td>2010-02-18</td>\n",
       "      <td>other</td>\n",
       "      <td>41.0</td>\n",
       "      <td>basic</td>\n",
       "      <td>0</td>\n",
       "      <td>en</td>\n",
       "      <td>direct</td>\n",
       "      <td>direct</td>\n",
       "      <td>untracked</td>\n",
       "      <td>DesktopOS</td>\n",
       "      <td>Desktop</td>\n",
       "      <td>Chrome</td>\n",
       "      <td>US</td>\n",
       "    </tr>\n",
       "    <tr>\n",
       "      <th>3</th>\n",
       "      <td>osr2jwljor</td>\n",
       "      <td>2010-01-01</td>\n",
       "      <td>2010-01-01</td>\n",
       "      <td>2010-01-02</td>\n",
       "      <td>other</td>\n",
       "      <td>34.0</td>\n",
       "      <td>basic</td>\n",
       "      <td>0</td>\n",
       "      <td>en</td>\n",
       "      <td>other</td>\n",
       "      <td>other</td>\n",
       "      <td>omg</td>\n",
       "      <td>DesktopOS</td>\n",
       "      <td>Desktop</td>\n",
       "      <td>Chrome</td>\n",
       "      <td>US</td>\n",
       "    </tr>\n",
       "    <tr>\n",
       "      <th>4</th>\n",
       "      <td>lsw9q7uk0j</td>\n",
       "      <td>2010-01-02</td>\n",
       "      <td>2010-01-02</td>\n",
       "      <td>2010-01-05</td>\n",
       "      <td>female</td>\n",
       "      <td>46.0</td>\n",
       "      <td>basic</td>\n",
       "      <td>0</td>\n",
       "      <td>en</td>\n",
       "      <td>other</td>\n",
       "      <td>craigslist</td>\n",
       "      <td>untracked</td>\n",
       "      <td>DesktopOS</td>\n",
       "      <td>Desktop</td>\n",
       "      <td>Safari</td>\n",
       "      <td>US</td>\n",
       "    </tr>\n",
       "  </tbody>\n",
       "</table>\n",
       "</div>"
      ],
      "text/plain": [
       "           id date_account_created timestamp_first_active date_first_booking  \\\n",
       "0  4ft3gnwmtx           2010-09-28             2009-06-09         2010-08-02   \n",
       "1  bjjt8pjhuk           2011-12-05             2009-10-31         2012-09-08   \n",
       "2  87mebub9p4           2010-09-14             2009-12-08         2010-02-18   \n",
       "3  osr2jwljor           2010-01-01             2010-01-01         2010-01-02   \n",
       "4  lsw9q7uk0j           2010-01-02             2010-01-02         2010-01-05   \n",
       "\n",
       "   gender   age signup_method  signup_flow language affiliate_channel  \\\n",
       "0  female  56.0         basic            3       en            direct   \n",
       "1  female  42.0      facebook            0       en            direct   \n",
       "2   other  41.0         basic            0       en            direct   \n",
       "3   other  34.0         basic            0       en             other   \n",
       "4  female  46.0         basic            0       en             other   \n",
       "\n",
       "  affiliate_provider first_affiliate_tracked signup_app first_device_type  \\\n",
       "0             direct               untracked  DesktopOS           Desktop   \n",
       "1             direct               untracked  DesktopOS           Desktop   \n",
       "2             direct               untracked  DesktopOS           Desktop   \n",
       "3              other                     omg  DesktopOS           Desktop   \n",
       "4         craigslist               untracked  DesktopOS           Desktop   \n",
       "\n",
       "  first_browser country_destination  \n",
       "0            IE                  US  \n",
       "1       Firefox               other  \n",
       "2        Chrome                  US  \n",
       "3        Chrome                  US  \n",
       "4        Safari                  US  "
      ]
     },
     "execution_count": 287,
     "metadata": {},
     "output_type": "execute_result"
    }
   ],
   "source": [
    "booking.head() # Brief look at the files"
   ]
  },
  {
   "cell_type": "code",
   "execution_count": 288,
   "metadata": {},
   "outputs": [
    {
     "name": "stdout",
     "output_type": "stream",
     "text": [
      "<class 'pandas.core.frame.DataFrame'>\n",
      "RangeIndex: 213449 entries, 0 to 213448\n",
      "Data columns (total 16 columns):\n",
      " #   Column                   Non-Null Count   Dtype  \n",
      "---  ------                   --------------   -----  \n",
      " 0   id                       213449 non-null  object \n",
      " 1   date_account_created     213449 non-null  object \n",
      " 2   timestamp_first_active   213449 non-null  object \n",
      " 3   date_first_booking       213449 non-null  object \n",
      " 4   gender                   213449 non-null  object \n",
      " 5   age                      213449 non-null  float64\n",
      " 6   signup_method            213449 non-null  object \n",
      " 7   signup_flow              213449 non-null  int64  \n",
      " 8   language                 213449 non-null  object \n",
      " 9   affiliate_channel        213449 non-null  object \n",
      " 10  affiliate_provider       213449 non-null  object \n",
      " 11  first_affiliate_tracked  213449 non-null  object \n",
      " 12  signup_app               213449 non-null  object \n",
      " 13  first_device_type        213449 non-null  object \n",
      " 14  first_browser            213449 non-null  object \n",
      " 15  country_destination      213449 non-null  object \n",
      "dtypes: float64(1), int64(1), object(14)\n",
      "memory usage: 26.1+ MB\n"
     ]
    }
   ],
   "source": [
    "booking.info()"
   ]
  },
  {
   "cell_type": "code",
   "execution_count": 289,
   "metadata": {},
   "outputs": [
    {
     "data": {
      "text/html": [
       "<div>\n",
       "<style scoped>\n",
       "    .dataframe tbody tr th:only-of-type {\n",
       "        vertical-align: middle;\n",
       "    }\n",
       "\n",
       "    .dataframe tbody tr th {\n",
       "        vertical-align: top;\n",
       "    }\n",
       "\n",
       "    .dataframe thead th {\n",
       "        text-align: right;\n",
       "    }\n",
       "</style>\n",
       "<table border=\"1\" class=\"dataframe\">\n",
       "  <thead>\n",
       "    <tr style=\"text-align: right;\">\n",
       "      <th></th>\n",
       "      <th>id</th>\n",
       "      <th>action_nunique</th>\n",
       "      <th>action_type_nunique</th>\n",
       "      <th>action_detail_nunique</th>\n",
       "      <th>device_type_nunique</th>\n",
       "      <th>min_secs_elapsed</th>\n",
       "      <th>max_secs_elapsed</th>\n",
       "      <th>sum_secs_elapsed</th>\n",
       "      <th>mean_secs_elapsed</th>\n",
       "      <th>median_secs_elapsed</th>\n",
       "      <th>std_secs_elapsed</th>\n",
       "    </tr>\n",
       "  </thead>\n",
       "  <tbody>\n",
       "    <tr>\n",
       "      <th>0</th>\n",
       "      <td>00023iyk9l</td>\n",
       "      <td>14</td>\n",
       "      <td>14</td>\n",
       "      <td>7</td>\n",
       "      <td>2</td>\n",
       "      <td>0.0</td>\n",
       "      <td>567165.0</td>\n",
       "      <td>867896.0</td>\n",
       "      <td>22253.743590</td>\n",
       "      <td>850.0</td>\n",
       "      <td>92242.561900</td>\n",
       "    </tr>\n",
       "    <tr>\n",
       "      <th>1</th>\n",
       "      <td>0010k6l0om</td>\n",
       "      <td>11</td>\n",
       "      <td>9</td>\n",
       "      <td>5</td>\n",
       "      <td>1</td>\n",
       "      <td>3.0</td>\n",
       "      <td>127898.0</td>\n",
       "      <td>586543.0</td>\n",
       "      <td>9460.370968</td>\n",
       "      <td>948.5</td>\n",
       "      <td>22751.227918</td>\n",
       "    </tr>\n",
       "    <tr>\n",
       "      <th>2</th>\n",
       "      <td>001wyh0pz8</td>\n",
       "      <td>10</td>\n",
       "      <td>10</td>\n",
       "      <td>5</td>\n",
       "      <td>1</td>\n",
       "      <td>35.0</td>\n",
       "      <td>50548.0</td>\n",
       "      <td>282965.0</td>\n",
       "      <td>3179.382022</td>\n",
       "      <td>1105.0</td>\n",
       "      <td>6569.648182</td>\n",
       "    </tr>\n",
       "    <tr>\n",
       "      <th>3</th>\n",
       "      <td>0028jgx1x1</td>\n",
       "      <td>5</td>\n",
       "      <td>6</td>\n",
       "      <td>5</td>\n",
       "      <td>2</td>\n",
       "      <td>3.0</td>\n",
       "      <td>84636.0</td>\n",
       "      <td>297010.0</td>\n",
       "      <td>9900.333333</td>\n",
       "      <td>1614.0</td>\n",
       "      <td>18004.964337</td>\n",
       "    </tr>\n",
       "    <tr>\n",
       "      <th>4</th>\n",
       "      <td>002qnbzfs5</td>\n",
       "      <td>26</td>\n",
       "      <td>23</td>\n",
       "      <td>7</td>\n",
       "      <td>2</td>\n",
       "      <td>0.0</td>\n",
       "      <td>1418284.0</td>\n",
       "      <td>6487080.0</td>\n",
       "      <td>8232.335025</td>\n",
       "      <td>498.0</td>\n",
       "      <td>58110.646170</td>\n",
       "    </tr>\n",
       "  </tbody>\n",
       "</table>\n",
       "</div>"
      ],
      "text/plain": [
       "           id  action_nunique  action_type_nunique  action_detail_nunique  \\\n",
       "0  00023iyk9l              14                   14                      7   \n",
       "1  0010k6l0om              11                    9                      5   \n",
       "2  001wyh0pz8              10                   10                      5   \n",
       "3  0028jgx1x1               5                    6                      5   \n",
       "4  002qnbzfs5              26                   23                      7   \n",
       "\n",
       "   device_type_nunique  min_secs_elapsed  max_secs_elapsed  sum_secs_elapsed  \\\n",
       "0                    2               0.0          567165.0          867896.0   \n",
       "1                    1               3.0          127898.0          586543.0   \n",
       "2                    1              35.0           50548.0          282965.0   \n",
       "3                    2               3.0           84636.0          297010.0   \n",
       "4                    2               0.0         1418284.0         6487080.0   \n",
       "\n",
       "   mean_secs_elapsed  median_secs_elapsed  std_secs_elapsed  \n",
       "0       22253.743590                850.0      92242.561900  \n",
       "1        9460.370968                948.5      22751.227918  \n",
       "2        3179.382022               1105.0       6569.648182  \n",
       "3        9900.333333               1614.0      18004.964337  \n",
       "4        8232.335025                498.0      58110.646170  "
      ]
     },
     "execution_count": 289,
     "metadata": {},
     "output_type": "execute_result"
    }
   ],
   "source": [
    "session.head()"
   ]
  },
  {
   "cell_type": "code",
   "execution_count": 290,
   "metadata": {},
   "outputs": [
    {
     "name": "stdout",
     "output_type": "stream",
     "text": [
      "<class 'pandas.core.frame.DataFrame'>\n",
      "RangeIndex: 135483 entries, 0 to 135482\n",
      "Data columns (total 11 columns):\n",
      " #   Column                 Non-Null Count   Dtype  \n",
      "---  ------                 --------------   -----  \n",
      " 0   id                     135483 non-null  object \n",
      " 1   action_nunique         135483 non-null  int64  \n",
      " 2   action_type_nunique    135483 non-null  int64  \n",
      " 3   action_detail_nunique  135483 non-null  int64  \n",
      " 4   device_type_nunique    135483 non-null  int64  \n",
      " 5   min_secs_elapsed       134057 non-null  float64\n",
      " 6   max_secs_elapsed       134057 non-null  float64\n",
      " 7   sum_secs_elapsed       135483 non-null  float64\n",
      " 8   mean_secs_elapsed      134057 non-null  float64\n",
      " 9   median_secs_elapsed    134057 non-null  float64\n",
      " 10  std_secs_elapsed       130796 non-null  float64\n",
      "dtypes: float64(6), int64(4), object(1)\n",
      "memory usage: 11.4+ MB\n"
     ]
    }
   ],
   "source": [
    "session.info()"
   ]
  },
  {
   "cell_type": "code",
   "execution_count": 291,
   "metadata": {},
   "outputs": [
    {
     "name": "stdout",
     "output_type": "stream",
     "text": [
      "Number of unique target values 12\n"
     ]
    }
   ],
   "source": [
    "print('Number of unique target values', booking.country_destination.nunique())"
   ]
  },
  {
   "cell_type": "code",
   "execution_count": 292,
   "metadata": {},
   "outputs": [
    {
     "name": "stdout",
     "output_type": "stream",
     "text": [
      "booking (213449, 16)\n",
      "session (135483, 11)\n"
     ]
    }
   ],
   "source": [
    "#  Comparison of both files\n",
    "print('booking', booking.shape)\n",
    "print('session', session.shape)"
   ]
  },
  {
   "cell_type": "markdown",
   "metadata": {},
   "source": [
    "We can see there are almost half missing ids in the booking file compare to session there's going to be significant drop in rows"
   ]
  },
  {
   "cell_type": "code",
   "execution_count": 293,
   "metadata": {},
   "outputs": [
    {
     "data": {
      "text/html": [
       "<div>\n",
       "<style scoped>\n",
       "    .dataframe tbody tr th:only-of-type {\n",
       "        vertical-align: middle;\n",
       "    }\n",
       "\n",
       "    .dataframe tbody tr th {\n",
       "        vertical-align: top;\n",
       "    }\n",
       "\n",
       "    .dataframe thead th {\n",
       "        text-align: right;\n",
       "    }\n",
       "</style>\n",
       "<table border=\"1\" class=\"dataframe\">\n",
       "  <thead>\n",
       "    <tr style=\"text-align: right;\">\n",
       "      <th></th>\n",
       "      <th>id</th>\n",
       "      <th>action_nunique</th>\n",
       "      <th>action_type_nunique</th>\n",
       "      <th>action_detail_nunique</th>\n",
       "      <th>device_type_nunique</th>\n",
       "      <th>min_secs_elapsed</th>\n",
       "      <th>max_secs_elapsed</th>\n",
       "      <th>sum_secs_elapsed</th>\n",
       "      <th>mean_secs_elapsed</th>\n",
       "      <th>median_secs_elapsed</th>\n",
       "      <th>...</th>\n",
       "      <th>signup_method</th>\n",
       "      <th>signup_flow</th>\n",
       "      <th>language</th>\n",
       "      <th>affiliate_channel</th>\n",
       "      <th>affiliate_provider</th>\n",
       "      <th>first_affiliate_tracked</th>\n",
       "      <th>signup_app</th>\n",
       "      <th>first_device_type</th>\n",
       "      <th>first_browser</th>\n",
       "      <th>country_destination</th>\n",
       "    </tr>\n",
       "  </thead>\n",
       "  <tbody>\n",
       "    <tr>\n",
       "      <th>0</th>\n",
       "      <td>00023iyk9l</td>\n",
       "      <td>14</td>\n",
       "      <td>14</td>\n",
       "      <td>7</td>\n",
       "      <td>2</td>\n",
       "      <td>0.0</td>\n",
       "      <td>567165.0</td>\n",
       "      <td>867896.0</td>\n",
       "      <td>22253.743590</td>\n",
       "      <td>850.0</td>\n",
       "      <td>...</td>\n",
       "      <td>basic</td>\n",
       "      <td>0</td>\n",
       "      <td>en</td>\n",
       "      <td>direct</td>\n",
       "      <td>direct</td>\n",
       "      <td>omg</td>\n",
       "      <td>DesktopOS</td>\n",
       "      <td>Desktop</td>\n",
       "      <td>Safari</td>\n",
       "      <td>US</td>\n",
       "    </tr>\n",
       "    <tr>\n",
       "      <th>1</th>\n",
       "      <td>001wyh0pz8</td>\n",
       "      <td>10</td>\n",
       "      <td>10</td>\n",
       "      <td>5</td>\n",
       "      <td>1</td>\n",
       "      <td>35.0</td>\n",
       "      <td>50548.0</td>\n",
       "      <td>282965.0</td>\n",
       "      <td>3179.382022</td>\n",
       "      <td>1105.0</td>\n",
       "      <td>...</td>\n",
       "      <td>basic</td>\n",
       "      <td>23</td>\n",
       "      <td>en</td>\n",
       "      <td>direct</td>\n",
       "      <td>direct</td>\n",
       "      <td>untracked</td>\n",
       "      <td>MobileOS</td>\n",
       "      <td>unknown</td>\n",
       "      <td>unknown</td>\n",
       "      <td>NDF</td>\n",
       "    </tr>\n",
       "    <tr>\n",
       "      <th>2</th>\n",
       "      <td>0028jgx1x1</td>\n",
       "      <td>5</td>\n",
       "      <td>6</td>\n",
       "      <td>5</td>\n",
       "      <td>2</td>\n",
       "      <td>3.0</td>\n",
       "      <td>84636.0</td>\n",
       "      <td>297010.0</td>\n",
       "      <td>9900.333333</td>\n",
       "      <td>1614.0</td>\n",
       "      <td>...</td>\n",
       "      <td>basic</td>\n",
       "      <td>0</td>\n",
       "      <td>en</td>\n",
       "      <td>direct</td>\n",
       "      <td>direct</td>\n",
       "      <td>linked</td>\n",
       "      <td>other</td>\n",
       "      <td>Mobile</td>\n",
       "      <td>other</td>\n",
       "      <td>NDF</td>\n",
       "    </tr>\n",
       "    <tr>\n",
       "      <th>3</th>\n",
       "      <td>002qnbzfs5</td>\n",
       "      <td>26</td>\n",
       "      <td>23</td>\n",
       "      <td>7</td>\n",
       "      <td>2</td>\n",
       "      <td>0.0</td>\n",
       "      <td>1418284.0</td>\n",
       "      <td>6487080.0</td>\n",
       "      <td>8232.335025</td>\n",
       "      <td>498.0</td>\n",
       "      <td>...</td>\n",
       "      <td>facebook</td>\n",
       "      <td>25</td>\n",
       "      <td>en</td>\n",
       "      <td>direct</td>\n",
       "      <td>direct</td>\n",
       "      <td>linked</td>\n",
       "      <td>MobileOS</td>\n",
       "      <td>Mobile</td>\n",
       "      <td>other</td>\n",
       "      <td>US</td>\n",
       "    </tr>\n",
       "    <tr>\n",
       "      <th>4</th>\n",
       "      <td>0035hobuyj</td>\n",
       "      <td>21</td>\n",
       "      <td>18</td>\n",
       "      <td>6</td>\n",
       "      <td>1</td>\n",
       "      <td>0.0</td>\n",
       "      <td>1215345.0</td>\n",
       "      <td>5724670.0</td>\n",
       "      <td>11730.881148</td>\n",
       "      <td>865.0</td>\n",
       "      <td>...</td>\n",
       "      <td>basic</td>\n",
       "      <td>0</td>\n",
       "      <td>en</td>\n",
       "      <td>sem-brand</td>\n",
       "      <td>google</td>\n",
       "      <td>omg</td>\n",
       "      <td>DesktopOS</td>\n",
       "      <td>Desktop</td>\n",
       "      <td>Safari</td>\n",
       "      <td>US</td>\n",
       "    </tr>\n",
       "    <tr>\n",
       "      <th>5</th>\n",
       "      <td>00389675gq</td>\n",
       "      <td>39</td>\n",
       "      <td>32</td>\n",
       "      <td>6</td>\n",
       "      <td>2</td>\n",
       "      <td>3.0</td>\n",
       "      <td>375543.0</td>\n",
       "      <td>2605711.0</td>\n",
       "      <td>14805.176136</td>\n",
       "      <td>963.0</td>\n",
       "      <td>...</td>\n",
       "      <td>basic</td>\n",
       "      <td>0</td>\n",
       "      <td>en</td>\n",
       "      <td>other</td>\n",
       "      <td>other</td>\n",
       "      <td>untracked</td>\n",
       "      <td>DesktopOS</td>\n",
       "      <td>unknown</td>\n",
       "      <td>unknown</td>\n",
       "      <td>NDF</td>\n",
       "    </tr>\n",
       "    <tr>\n",
       "      <th>6</th>\n",
       "      <td>003iamz20l</td>\n",
       "      <td>9</td>\n",
       "      <td>10</td>\n",
       "      <td>5</td>\n",
       "      <td>1</td>\n",
       "      <td>0.0</td>\n",
       "      <td>312360.0</td>\n",
       "      <td>1590236.0</td>\n",
       "      <td>9816.271605</td>\n",
       "      <td>380.0</td>\n",
       "      <td>...</td>\n",
       "      <td>basic</td>\n",
       "      <td>25</td>\n",
       "      <td>en</td>\n",
       "      <td>direct</td>\n",
       "      <td>direct</td>\n",
       "      <td>untracked</td>\n",
       "      <td>MobileOS</td>\n",
       "      <td>Mobile</td>\n",
       "      <td>unknown</td>\n",
       "      <td>NDF</td>\n",
       "    </tr>\n",
       "    <tr>\n",
       "      <th>7</th>\n",
       "      <td>005jc3nbmb</td>\n",
       "      <td>12</td>\n",
       "      <td>12</td>\n",
       "      <td>6</td>\n",
       "      <td>2</td>\n",
       "      <td>49.0</td>\n",
       "      <td>1473741.0</td>\n",
       "      <td>2793945.0</td>\n",
       "      <td>111757.800000</td>\n",
       "      <td>4179.0</td>\n",
       "      <td>...</td>\n",
       "      <td>basic</td>\n",
       "      <td>0</td>\n",
       "      <td>en</td>\n",
       "      <td>direct</td>\n",
       "      <td>direct</td>\n",
       "      <td>untracked</td>\n",
       "      <td>DesktopOS</td>\n",
       "      <td>Mobile</td>\n",
       "      <td>other</td>\n",
       "      <td>NDF</td>\n",
       "    </tr>\n",
       "    <tr>\n",
       "      <th>8</th>\n",
       "      <td>006mls2sjw</td>\n",
       "      <td>21</td>\n",
       "      <td>17</td>\n",
       "      <td>5</td>\n",
       "      <td>1</td>\n",
       "      <td>2.0</td>\n",
       "      <td>681102.0</td>\n",
       "      <td>2424268.0</td>\n",
       "      <td>12496.226804</td>\n",
       "      <td>883.0</td>\n",
       "      <td>...</td>\n",
       "      <td>basic</td>\n",
       "      <td>0</td>\n",
       "      <td>en</td>\n",
       "      <td>sem-brand</td>\n",
       "      <td>google</td>\n",
       "      <td>untracked</td>\n",
       "      <td>DesktopOS</td>\n",
       "      <td>Desktop</td>\n",
       "      <td>Safari</td>\n",
       "      <td>ES</td>\n",
       "    </tr>\n",
       "    <tr>\n",
       "      <th>9</th>\n",
       "      <td>006t3vhawl</td>\n",
       "      <td>18</td>\n",
       "      <td>16</td>\n",
       "      <td>6</td>\n",
       "      <td>1</td>\n",
       "      <td>23.0</td>\n",
       "      <td>159224.0</td>\n",
       "      <td>815416.0</td>\n",
       "      <td>31362.153846</td>\n",
       "      <td>3340.5</td>\n",
       "      <td>...</td>\n",
       "      <td>basic</td>\n",
       "      <td>0</td>\n",
       "      <td>en</td>\n",
       "      <td>sem-brand</td>\n",
       "      <td>google</td>\n",
       "      <td>omg</td>\n",
       "      <td>DesktopOS</td>\n",
       "      <td>Mobile</td>\n",
       "      <td>other</td>\n",
       "      <td>US</td>\n",
       "    </tr>\n",
       "  </tbody>\n",
       "</table>\n",
       "<p>10 rows × 26 columns</p>\n",
       "</div>"
      ],
      "text/plain": [
       "           id  action_nunique  action_type_nunique  action_detail_nunique  \\\n",
       "0  00023iyk9l              14                   14                      7   \n",
       "1  001wyh0pz8              10                   10                      5   \n",
       "2  0028jgx1x1               5                    6                      5   \n",
       "3  002qnbzfs5              26                   23                      7   \n",
       "4  0035hobuyj              21                   18                      6   \n",
       "5  00389675gq              39                   32                      6   \n",
       "6  003iamz20l               9                   10                      5   \n",
       "7  005jc3nbmb              12                   12                      6   \n",
       "8  006mls2sjw              21                   17                      5   \n",
       "9  006t3vhawl              18                   16                      6   \n",
       "\n",
       "   device_type_nunique  min_secs_elapsed  max_secs_elapsed  sum_secs_elapsed  \\\n",
       "0                    2               0.0          567165.0          867896.0   \n",
       "1                    1              35.0           50548.0          282965.0   \n",
       "2                    2               3.0           84636.0          297010.0   \n",
       "3                    2               0.0         1418284.0         6487080.0   \n",
       "4                    1               0.0         1215345.0         5724670.0   \n",
       "5                    2               3.0          375543.0         2605711.0   \n",
       "6                    1               0.0          312360.0         1590236.0   \n",
       "7                    2              49.0         1473741.0         2793945.0   \n",
       "8                    1               2.0          681102.0         2424268.0   \n",
       "9                    1              23.0          159224.0          815416.0   \n",
       "\n",
       "   mean_secs_elapsed  median_secs_elapsed  ...  signup_method signup_flow  \\\n",
       "0       22253.743590                850.0  ...          basic           0   \n",
       "1        3179.382022               1105.0  ...          basic          23   \n",
       "2        9900.333333               1614.0  ...          basic           0   \n",
       "3        8232.335025                498.0  ...       facebook          25   \n",
       "4       11730.881148                865.0  ...          basic           0   \n",
       "5       14805.176136                963.0  ...          basic           0   \n",
       "6        9816.271605                380.0  ...          basic          25   \n",
       "7      111757.800000               4179.0  ...          basic           0   \n",
       "8       12496.226804                883.0  ...          basic           0   \n",
       "9       31362.153846               3340.5  ...          basic           0   \n",
       "\n",
       "  language affiliate_channel affiliate_provider  first_affiliate_tracked  \\\n",
       "0       en            direct             direct                      omg   \n",
       "1       en            direct             direct                untracked   \n",
       "2       en            direct             direct                   linked   \n",
       "3       en            direct             direct                   linked   \n",
       "4       en         sem-brand             google                      omg   \n",
       "5       en             other              other                untracked   \n",
       "6       en            direct             direct                untracked   \n",
       "7       en            direct             direct                untracked   \n",
       "8       en         sem-brand             google                untracked   \n",
       "9       en         sem-brand             google                      omg   \n",
       "\n",
       "  signup_app  first_device_type first_browser country_destination  \n",
       "0  DesktopOS            Desktop        Safari                  US  \n",
       "1   MobileOS            unknown       unknown                 NDF  \n",
       "2      other             Mobile         other                 NDF  \n",
       "3   MobileOS             Mobile         other                  US  \n",
       "4  DesktopOS            Desktop        Safari                  US  \n",
       "5  DesktopOS            unknown       unknown                 NDF  \n",
       "6   MobileOS             Mobile       unknown                 NDF  \n",
       "7  DesktopOS             Mobile         other                 NDF  \n",
       "8  DesktopOS            Desktop        Safari                  ES  \n",
       "9  DesktopOS             Mobile         other                  US  \n",
       "\n",
       "[10 rows x 26 columns]"
      ]
     },
     "execution_count": 293,
     "metadata": {},
     "output_type": "execute_result"
    }
   ],
   "source": [
    "# Join of the two tables together on id\n",
    "\n",
    "main_df = session.merge(booking, on='id', how='inner')\n",
    "main_df.head(10)"
   ]
  },
  {
   "cell_type": "code",
   "execution_count": 294,
   "metadata": {},
   "outputs": [
    {
     "name": "stdout",
     "output_type": "stream",
     "text": [
      "(73815, 26)\n",
      "\n",
      "<class 'pandas.core.frame.DataFrame'>\n",
      "Int64Index: 73815 entries, 0 to 73814\n",
      "Data columns (total 26 columns):\n",
      " #   Column                   Non-Null Count  Dtype  \n",
      "---  ------                   --------------  -----  \n",
      " 0   id                       73815 non-null  object \n",
      " 1   action_nunique           73815 non-null  int64  \n",
      " 2   action_type_nunique      73815 non-null  int64  \n",
      " 3   action_detail_nunique    73815 non-null  int64  \n",
      " 4   device_type_nunique      73815 non-null  int64  \n",
      " 5   min_secs_elapsed         72631 non-null  float64\n",
      " 6   max_secs_elapsed         72631 non-null  float64\n",
      " 7   sum_secs_elapsed         73815 non-null  float64\n",
      " 8   mean_secs_elapsed        72631 non-null  float64\n",
      " 9   median_secs_elapsed      72631 non-null  float64\n",
      " 10  std_secs_elapsed         69850 non-null  float64\n",
      " 11  date_account_created     73815 non-null  object \n",
      " 12  timestamp_first_active   73815 non-null  object \n",
      " 13  date_first_booking       73815 non-null  object \n",
      " 14  gender                   73815 non-null  object \n",
      " 15  age                      73815 non-null  float64\n",
      " 16  signup_method            73815 non-null  object \n",
      " 17  signup_flow              73815 non-null  int64  \n",
      " 18  language                 73815 non-null  object \n",
      " 19  affiliate_channel        73815 non-null  object \n",
      " 20  affiliate_provider       73815 non-null  object \n",
      " 21  first_affiliate_tracked  73815 non-null  object \n",
      " 22  signup_app               73815 non-null  object \n",
      " 23  first_device_type        73815 non-null  object \n",
      " 24  first_browser            73815 non-null  object \n",
      " 25  country_destination      73815 non-null  object \n",
      "dtypes: float64(7), int64(5), object(14)\n",
      "memory usage: 15.2+ MB\n",
      "None\n"
     ]
    }
   ],
   "source": [
    "# Using the inner join decreases the the data to half the size in case of\n",
    "\n",
    "print(main_df.shape)\n",
    "print()\n",
    "print(main_df.info())"
   ]
  },
  {
   "cell_type": "markdown",
   "metadata": {},
   "source": [
    "Addition of date features before they are dropped for the model train.\n",
    "\n",
    "Trying to use differences between date_account_created', 'timestamp_first_active' and'date_first_booking' does not give a useful outcome, it is high in negative values. It would also lead to loosing more values."
   ]
  },
  {
   "cell_type": "code",
   "execution_count": 295,
   "metadata": {},
   "outputs": [],
   "source": [
    "# Date conversion date_account_created\n",
    "\n",
    "main_df.date_account_created = pd.to_datetime(main_df.date_account_created) # Date conversion"
   ]
  },
  {
   "cell_type": "code",
   "execution_count": 296,
   "metadata": {},
   "outputs": [],
   "source": [
    "# Creating new columns for day, month, year of account creation\n",
    "\n",
    "main_df['dayofweek_account_created'] = main_df.date_account_created.dt.dayofweek\n",
    "main_df['day_account_created'] = main_df.date_account_created.dt.day\n",
    "main_df['day_of_year_account_created'] = main_df.date_account_created.dt.dayofyear\n",
    "main_df['month_account_created'] = main_df.date_account_created.dt.month\n",
    "main_df['year_account_created'] = main_df.date_account_created.dt.year"
   ]
  },
  {
   "cell_type": "code",
   "execution_count": 297,
   "metadata": {},
   "outputs": [],
   "source": [
    "# Date conversion timestamp_first_active\n",
    "\n",
    "main_df.timestamp_first_active = pd.to_datetime(main_df.timestamp_first_active)"
   ]
  },
  {
   "cell_type": "code",
   "execution_count": 298,
   "metadata": {},
   "outputs": [],
   "source": [
    "# Creating new columns for day, month, year of first activity\n",
    "\n",
    "main_df['dayofweek_first_active'] = main_df.timestamp_first_active.dt.dayofweek\n",
    "main_df['day_first_active'] = main_df.timestamp_first_active.dt.day\n",
    "main_df['day_of_year_first_active'] = main_df.timestamp_first_active.dt.dayofyear\n",
    "main_df['month_first_active'] = main_df.timestamp_first_active.dt.month\n",
    "main_df['year_first_active'] = main_df.timestamp_first_active.dt.year"
   ]
  },
  {
   "cell_type": "code",
   "execution_count": 299,
   "metadata": {},
   "outputs": [],
   "source": [
    "# Date conversion date_first_booking\n",
    "\n",
    "main_df.date_first_booking = pd.to_datetime(main_df.date_first_booking)"
   ]
  },
  {
   "cell_type": "code",
   "execution_count": 300,
   "metadata": {},
   "outputs": [],
   "source": [
    "# Creating new columns for day, month, year of first activity\n",
    "main_df['dayofweek_first_active'] = main_df.timestamp_first_active.dt.dayofweek\n",
    "main_df['day_first_active'] = main_df.timestamp_first_active.dt.day\n",
    "main_df['day_of_year_first_active'] = main_df.timestamp_first_active.dt.dayofyear\n",
    "main_df['month_first_active'] = main_df.timestamp_first_active.dt.month\n",
    "main_df['year_first_active'] = main_df.timestamp_first_active.dt.year"
   ]
  },
  {
   "cell_type": "code",
   "execution_count": 301,
   "metadata": {},
   "outputs": [],
   "source": [
    "# Date conversion date_first_booking\n",
    "\n",
    "main_df.date_first_booking = pd.to_datetime(main_df.date_first_booking)"
   ]
  },
  {
   "cell_type": "code",
   "execution_count": 302,
   "metadata": {},
   "outputs": [],
   "source": [
    "# Creating new columns for day, month, year of first booking\n",
    "\n",
    "main_df['dayofweek_first_booking'] = main_df.date_first_booking.dt.dayofweek\n",
    "main_df['day_of_year_first_booking'] = main_df.date_first_booking.dt.dayofyear\n",
    "main_df['day_first_booking'] = main_df.date_first_booking.dt.day\n",
    "main_df['month_first_booking'] = main_df.date_first_booking.dt.month\n",
    "main_df['year_first_booking'] = main_df.date_first_booking.dt.year"
   ]
  },
  {
   "cell_type": "code",
   "execution_count": 303,
   "metadata": {},
   "outputs": [
    {
     "name": "stdout",
     "output_type": "stream",
     "text": [
      "Seasons of the year distribution: \n"
     ]
    },
    {
     "data": {
      "text/plain": [
       "Spring    0.491662\n",
       "Winter    0.311725\n",
       "Summer    0.147219\n",
       "Fall      0.049394\n",
       "Name: seasons, dtype: float64"
      ]
     },
     "execution_count": 303,
     "metadata": {},
     "output_type": "execute_result"
    }
   ],
   "source": [
    "# Adding seasons of the year\n",
    "\n",
    "bins = [0, 91, 183, 275, 366]\n",
    "labels=['Winter', 'Spring', 'Summer', 'Fall']\n",
    "\n",
    "main_df['seasons'] = pd.cut(main_df['day_of_year_first_booking'] + 11 - 366*(main_df['day_of_year_first_booking'] > 355), bins=bins, labels=labels)\n",
    "print('Seasons of the year distribution: ') \n",
    "main_df['seasons'].value_counts(normalize=True)"
   ]
  },
  {
   "cell_type": "code",
   "execution_count": 304,
   "metadata": {},
   "outputs": [],
   "source": [
    "# Age categories feature\n",
    "\n",
    "cut_labels_7 = ['teens','twenties', 'thirties','fourties', 'fifties', 'sixties', 'retired']\n",
    "cut_bins = [ -1, 20, 30, 40, 50, 60, 70, 100]\n",
    "main_df['age_groups'] = pd.cut(main_df['age'], bins=cut_bins, labels=cut_labels_7)"
   ]
  },
  {
   "cell_type": "code",
   "execution_count": 305,
   "metadata": {},
   "outputs": [
    {
     "name": "stdout",
     "output_type": "stream",
     "text": [
      "Distribution of age groups:\n",
      "thirties    0.624670\n",
      "twenties    0.221676\n",
      "fourties    0.073210\n",
      "fifties     0.041238\n",
      "sixties     0.018885\n",
      "teens       0.014943\n",
      "retired     0.005378\n",
      "Name: age_groups, dtype: float64\n"
     ]
    }
   ],
   "source": [
    "print('Distribution of age groups:')\n",
    "print(main_df['age_groups'].value_counts(normalize=True))"
   ]
  },
  {
   "cell_type": "code",
   "execution_count": 306,
   "metadata": {},
   "outputs": [
    {
     "name": "stdout",
     "output_type": "stream",
     "text": [
      "<class 'pandas.core.frame.DataFrame'>\n",
      "Int64Index: 73815 entries, 0 to 73814\n",
      "Data columns (total 43 columns):\n",
      " #   Column                       Non-Null Count  Dtype         \n",
      "---  ------                       --------------  -----         \n",
      " 0   id                           73815 non-null  object        \n",
      " 1   action_nunique               73815 non-null  int64         \n",
      " 2   action_type_nunique          73815 non-null  int64         \n",
      " 3   action_detail_nunique        73815 non-null  int64         \n",
      " 4   device_type_nunique          73815 non-null  int64         \n",
      " 5   min_secs_elapsed             72631 non-null  float64       \n",
      " 6   max_secs_elapsed             72631 non-null  float64       \n",
      " 7   sum_secs_elapsed             73815 non-null  float64       \n",
      " 8   mean_secs_elapsed            72631 non-null  float64       \n",
      " 9   median_secs_elapsed          72631 non-null  float64       \n",
      " 10  std_secs_elapsed             69850 non-null  float64       \n",
      " 11  date_account_created         73815 non-null  datetime64[ns]\n",
      " 12  timestamp_first_active       73815 non-null  datetime64[ns]\n",
      " 13  date_first_booking           73815 non-null  datetime64[ns]\n",
      " 14  gender                       73815 non-null  object        \n",
      " 15  age                          73815 non-null  float64       \n",
      " 16  signup_method                73815 non-null  object        \n",
      " 17  signup_flow                  73815 non-null  int64         \n",
      " 18  language                     73815 non-null  object        \n",
      " 19  affiliate_channel            73815 non-null  object        \n",
      " 20  affiliate_provider           73815 non-null  object        \n",
      " 21  first_affiliate_tracked      73815 non-null  object        \n",
      " 22  signup_app                   73815 non-null  object        \n",
      " 23  first_device_type            73815 non-null  object        \n",
      " 24  first_browser                73815 non-null  object        \n",
      " 25  country_destination          73815 non-null  object        \n",
      " 26  dayofweek_account_created    73815 non-null  int64         \n",
      " 27  day_account_created          73815 non-null  int64         \n",
      " 28  day_of_year_account_created  73815 non-null  int64         \n",
      " 29  month_account_created        73815 non-null  int64         \n",
      " 30  year_account_created         73815 non-null  int64         \n",
      " 31  dayofweek_first_active       73815 non-null  int64         \n",
      " 32  day_first_active             73815 non-null  int64         \n",
      " 33  day_of_year_first_active     73815 non-null  int64         \n",
      " 34  month_first_active           73815 non-null  int64         \n",
      " 35  year_first_active            73815 non-null  int64         \n",
      " 36  dayofweek_first_booking      73815 non-null  int64         \n",
      " 37  day_of_year_first_booking    73815 non-null  int64         \n",
      " 38  day_first_booking            73815 non-null  int64         \n",
      " 39  month_first_booking          73815 non-null  int64         \n",
      " 40  year_first_booking           73815 non-null  int64         \n",
      " 41  seasons                      73815 non-null  category      \n",
      " 42  age_groups                   73815 non-null  category      \n",
      "dtypes: category(2), datetime64[ns](3), float64(7), int64(20), object(11)\n",
      "memory usage: 23.8+ MB\n"
     ]
    }
   ],
   "source": [
    "main_df.info()"
   ]
  },
  {
   "cell_type": "code",
   "execution_count": 307,
   "metadata": {},
   "outputs": [],
   "source": [
    "# Drop of the date features\n",
    "\n",
    "main_df.drop('date_first_booking', axis=1, inplace=True)\n",
    "main_df.drop('date_account_created', axis=1, inplace=True)\n",
    "main_df.drop('timestamp_first_active', axis=1, inplace=True)"
   ]
  },
  {
   "cell_type": "code",
   "execution_count": 308,
   "metadata": {},
   "outputs": [
    {
     "data": {
      "text/plain": [
       "Index(['id', 'action_nunique', 'action_type_nunique', 'action_detail_nunique',\n",
       "       'device_type_nunique', 'min_secs_elapsed', 'max_secs_elapsed',\n",
       "       'sum_secs_elapsed', 'mean_secs_elapsed', 'median_secs_elapsed',\n",
       "       'std_secs_elapsed', 'gender', 'age', 'signup_method', 'signup_flow',\n",
       "       'language', 'affiliate_channel', 'affiliate_provider',\n",
       "       'first_affiliate_tracked', 'signup_app', 'first_device_type',\n",
       "       'first_browser', 'country_destination', 'dayofweek_account_created',\n",
       "       'day_account_created', 'day_of_year_account_created',\n",
       "       'month_account_created', 'year_account_created',\n",
       "       'dayofweek_first_active', 'day_first_active',\n",
       "       'day_of_year_first_active', 'month_first_active', 'year_first_active',\n",
       "       'dayofweek_first_booking', 'day_of_year_first_booking',\n",
       "       'day_first_booking', 'month_first_booking', 'year_first_booking',\n",
       "       'seasons', 'age_groups'],\n",
       "      dtype='object')"
      ]
     },
     "execution_count": 308,
     "metadata": {},
     "output_type": "execute_result"
    }
   ],
   "source": [
    "main_df.keys() # Check for the new features and"
   ]
  },
  {
   "cell_type": "code",
   "execution_count": 309,
   "metadata": {},
   "outputs": [
    {
     "name": "stdout",
     "output_type": "stream",
     "text": [
      "id                       0\n",
      "action_nunique           0\n",
      "action_type_nunique      0\n",
      "action_detail_nunique    0\n",
      "device_type_nunique      0\n",
      "                        ..\n",
      "day_first_booking        0\n",
      "month_first_booking      0\n",
      "year_first_booking       0\n",
      "seasons                  0\n",
      "age_groups               0\n",
      "Length: 40, dtype: int64\n"
     ]
    }
   ],
   "source": [
    "# Check for null values\n",
    "\n",
    "print(main_df.isnull().sum())"
   ]
  },
  {
   "cell_type": "code",
   "execution_count": 310,
   "metadata": {},
   "outputs": [
    {
     "name": "stdout",
     "output_type": "stream",
     "text": [
      "[dtype('O') dtype('int64') dtype('float64')\n",
      " CategoricalDtype(categories=['Winter', 'Spring', 'Summer', 'Fall'], ordered=True)\n",
      " CategoricalDtype(categories=['teens', 'twenties', 'thirties', 'fourties', 'fifties',\n",
      "                  'sixties', 'retired'],\n",
      "                 ordered=True)]\n"
     ]
    }
   ],
   "source": [
    "print(main_df.dtypes.unique()) # These are the data types we have"
   ]
  },
  {
   "cell_type": "code",
   "execution_count": 311,
   "metadata": {},
   "outputs": [
    {
     "name": "stdout",
     "output_type": "stream",
     "text": [
      "List of categorical features:  ['id', 'gender', 'signup_method', 'language', 'affiliate_channel', 'affiliate_provider', 'first_affiliate_tracked', 'signup_app', 'first_device_type', 'first_browser', 'country_destination', 'seasons', 'age_groups']\n"
     ]
    }
   ],
   "source": [
    "# Prep. of categorical features for\n",
    "\n",
    "categorical_features = [f for f in main_df.columns if main_df[f].dtype not in ['int64','float64']]\n",
    "print('List of categorical features: ', categorical_features)"
   ]
  },
  {
   "cell_type": "code",
   "execution_count": 312,
   "metadata": {},
   "outputs": [
    {
     "name": "stdout",
     "output_type": "stream",
     "text": [
      "                 column  cnt_nan\n",
      "0                    id        0\n",
      "1                gender        0\n",
      "2         signup_method        0\n",
      "3              language        0\n",
      "4     affiliate_channel        0\n",
      "..                  ...      ...\n",
      "8     first_device_type        0\n",
      "9         first_browser        0\n",
      "10  country_destination        0\n",
      "11              seasons        0\n",
      "12           age_groups        0\n",
      "\n",
      "[13 rows x 2 columns]\n"
     ]
    }
   ],
   "source": [
    "# Looking for any possible missing values\n",
    "\n",
    "nan_info = pd.DataFrame(main_df[categorical_features].isnull().sum()).reset_index() # get columns which has NAN\n",
    "nan_info.columns = ['column','cnt_nan']\n",
    "nan_info.sort_values('cnt_nan',ascending=False,inplace=True)\n",
    "print(nan_info)"
   ]
  },
  {
   "cell_type": "code",
   "execution_count": 313,
   "metadata": {},
   "outputs": [],
   "source": [
    "# Categorical feature encoding\n",
    "\n",
    "for f in categorical_features:\n",
    "    main_df[f] = LabelEncoder().fit_transform(main_df[f])"
   ]
  },
  {
   "cell_type": "code",
   "execution_count": 314,
   "metadata": {},
   "outputs": [
    {
     "name": "stdout",
     "output_type": "stream",
     "text": [
      "List of numeric features:  ['action_nunique', 'action_type_nunique', 'action_detail_nunique', 'device_type_nunique', 'min_secs_elapsed', 'max_secs_elapsed', 'sum_secs_elapsed', 'mean_secs_elapsed', 'median_secs_elapsed', 'std_secs_elapsed', 'age', 'signup_flow', 'dayofweek_account_created', 'day_account_created', 'day_of_year_account_created', 'month_account_created', 'year_account_created', 'dayofweek_first_active', 'day_first_active', 'day_of_year_first_active', 'month_first_active', 'year_first_active', 'dayofweek_first_booking', 'day_of_year_first_booking', 'day_first_booking', 'month_first_booking', 'year_first_booking']\n",
      "\n"
     ]
    }
   ],
   "source": [
    "# Prep. of numeric features\n",
    "\n",
    "numeric_features = [f for f in main_df.columns if (f not in categorical_features) and f not in ['id']]\n",
    "print('List of numeric features: ',numeric_features)\n",
    "print()\n"
   ]
  },
  {
   "cell_type": "code",
   "execution_count": 315,
   "metadata": {},
   "outputs": [
    {
     "name": "stdout",
     "output_type": "stream",
     "text": [
      "                   column  cnt_nan\n",
      "9        std_secs_elapsed     3965\n",
      "4        min_secs_elapsed     1184\n",
      "5        max_secs_elapsed     1184\n",
      "7       mean_secs_elapsed     1184\n",
      "8     median_secs_elapsed     1184\n",
      "..                    ...      ...\n",
      "10                    age        0\n",
      "6        sum_secs_elapsed        0\n",
      "3     device_type_nunique        0\n",
      "2   action_detail_nunique        0\n",
      "26     year_first_booking        0\n",
      "\n",
      "[27 rows x 2 columns]\n",
      "\n"
     ]
    }
   ],
   "source": [
    "# Looking for any possible missing values\n",
    "\n",
    "nan_info = pd.DataFrame(main_df[numeric_features].isnull().sum()).reset_index() # get nan info for numerical features\n",
    "nan_info.columns = ['column','cnt_nan']\n",
    "nan_info.sort_values('cnt_nan',ascending=False,inplace=True)\n",
    "print(nan_info)\n",
    "print()\n"
   ]
  },
  {
   "cell_type": "code",
   "execution_count": 316,
   "metadata": {},
   "outputs": [
    {
     "name": "stdout",
     "output_type": "stream",
     "text": [
      "List of column names with zero values:  ['std_secs_elapsed' 'min_secs_elapsed' 'max_secs_elapsed'\n",
      " 'mean_secs_elapsed' 'median_secs_elapsed']\n"
     ]
    }
   ],
   "source": [
    "# List of columns with zero values\n",
    "cols_with_zeros = nan_info.loc[nan_info.cnt_nan>0]['column'].values\n",
    "print('List of column names with zero values: ', cols_with_zeros)"
   ]
  },
  {
   "cell_type": "code",
   "execution_count": 317,
   "metadata": {},
   "outputs": [
    {
     "name": "stdout",
     "output_type": "stream",
     "text": [
      "\n",
      "0\n"
     ]
    }
   ],
   "source": [
    "# Filling the missing values with mean\n",
    "for f in cols_with_zeros:\n",
    "    main_df[f] = main_df[f].fillna(main_df[f].mean())\n",
    "print()\n",
    "print(main_df.isnull().sum().sum())"
   ]
  },
  {
   "cell_type": "code",
   "execution_count": 319,
   "metadata": {},
   "outputs": [
    {
     "data": {
      "text/html": [
       "<div>\n",
       "<style scoped>\n",
       "    .dataframe tbody tr th:only-of-type {\n",
       "        vertical-align: middle;\n",
       "    }\n",
       "\n",
       "    .dataframe tbody tr th {\n",
       "        vertical-align: top;\n",
       "    }\n",
       "\n",
       "    .dataframe thead th {\n",
       "        text-align: right;\n",
       "    }\n",
       "</style>\n",
       "<table border=\"1\" class=\"dataframe\">\n",
       "  <thead>\n",
       "    <tr style=\"text-align: right;\">\n",
       "      <th></th>\n",
       "      <th>id</th>\n",
       "      <th>action_nunique</th>\n",
       "      <th>action_type_nunique</th>\n",
       "      <th>action_detail_nunique</th>\n",
       "      <th>device_type_nunique</th>\n",
       "      <th>min_secs_elapsed</th>\n",
       "      <th>max_secs_elapsed</th>\n",
       "      <th>sum_secs_elapsed</th>\n",
       "      <th>mean_secs_elapsed</th>\n",
       "      <th>median_secs_elapsed</th>\n",
       "      <th>...</th>\n",
       "      <th>day_of_year_first_active</th>\n",
       "      <th>month_first_active</th>\n",
       "      <th>year_first_active</th>\n",
       "      <th>dayofweek_first_booking</th>\n",
       "      <th>day_of_year_first_booking</th>\n",
       "      <th>day_first_booking</th>\n",
       "      <th>month_first_booking</th>\n",
       "      <th>year_first_booking</th>\n",
       "      <th>seasons</th>\n",
       "      <th>age_groups</th>\n",
       "    </tr>\n",
       "  </thead>\n",
       "  <tbody>\n",
       "    <tr>\n",
       "      <th>0</th>\n",
       "      <td>0</td>\n",
       "      <td>14</td>\n",
       "      <td>14</td>\n",
       "      <td>7</td>\n",
       "      <td>2</td>\n",
       "      <td>0.0</td>\n",
       "      <td>567165.0</td>\n",
       "      <td>867896.0</td>\n",
       "      <td>22253.743590</td>\n",
       "      <td>850.0</td>\n",
       "      <td>...</td>\n",
       "      <td>134</td>\n",
       "      <td>5</td>\n",
       "      <td>2014</td>\n",
       "      <td>2</td>\n",
       "      <td>134</td>\n",
       "      <td>14</td>\n",
       "      <td>5</td>\n",
       "      <td>2014</td>\n",
       "      <td>1</td>\n",
       "      <td>5</td>\n",
       "    </tr>\n",
       "    <tr>\n",
       "      <th>1</th>\n",
       "      <td>1</td>\n",
       "      <td>10</td>\n",
       "      <td>10</td>\n",
       "      <td>5</td>\n",
       "      <td>1</td>\n",
       "      <td>35.0</td>\n",
       "      <td>50548.0</td>\n",
       "      <td>282965.0</td>\n",
       "      <td>3179.382022</td>\n",
       "      <td>1105.0</td>\n",
       "      <td>...</td>\n",
       "      <td>114</td>\n",
       "      <td>4</td>\n",
       "      <td>2014</td>\n",
       "      <td>6</td>\n",
       "      <td>124</td>\n",
       "      <td>4</td>\n",
       "      <td>5</td>\n",
       "      <td>2014</td>\n",
       "      <td>1</td>\n",
       "      <td>5</td>\n",
       "    </tr>\n",
       "    <tr>\n",
       "      <th>2</th>\n",
       "      <td>2</td>\n",
       "      <td>5</td>\n",
       "      <td>6</td>\n",
       "      <td>5</td>\n",
       "      <td>2</td>\n",
       "      <td>3.0</td>\n",
       "      <td>84636.0</td>\n",
       "      <td>297010.0</td>\n",
       "      <td>9900.333333</td>\n",
       "      <td>1614.0</td>\n",
       "      <td>...</td>\n",
       "      <td>172</td>\n",
       "      <td>6</td>\n",
       "      <td>2014</td>\n",
       "      <td>5</td>\n",
       "      <td>3</td>\n",
       "      <td>3</td>\n",
       "      <td>1</td>\n",
       "      <td>2015</td>\n",
       "      <td>3</td>\n",
       "      <td>5</td>\n",
       "    </tr>\n",
       "    <tr>\n",
       "      <th>3</th>\n",
       "      <td>3</td>\n",
       "      <td>26</td>\n",
       "      <td>23</td>\n",
       "      <td>7</td>\n",
       "      <td>2</td>\n",
       "      <td>0.0</td>\n",
       "      <td>1418284.0</td>\n",
       "      <td>6487080.0</td>\n",
       "      <td>8232.335025</td>\n",
       "      <td>498.0</td>\n",
       "      <td>...</td>\n",
       "      <td>116</td>\n",
       "      <td>4</td>\n",
       "      <td>2014</td>\n",
       "      <td>5</td>\n",
       "      <td>116</td>\n",
       "      <td>26</td>\n",
       "      <td>4</td>\n",
       "      <td>2014</td>\n",
       "      <td>1</td>\n",
       "      <td>6</td>\n",
       "    </tr>\n",
       "    <tr>\n",
       "      <th>4</th>\n",
       "      <td>4</td>\n",
       "      <td>21</td>\n",
       "      <td>18</td>\n",
       "      <td>6</td>\n",
       "      <td>1</td>\n",
       "      <td>0.0</td>\n",
       "      <td>1215345.0</td>\n",
       "      <td>5724670.0</td>\n",
       "      <td>11730.881148</td>\n",
       "      <td>865.0</td>\n",
       "      <td>...</td>\n",
       "      <td>2</td>\n",
       "      <td>1</td>\n",
       "      <td>2014</td>\n",
       "      <td>5</td>\n",
       "      <td>4</td>\n",
       "      <td>4</td>\n",
       "      <td>1</td>\n",
       "      <td>2014</td>\n",
       "      <td>3</td>\n",
       "      <td>5</td>\n",
       "    </tr>\n",
       "  </tbody>\n",
       "</table>\n",
       "<p>5 rows × 40 columns</p>\n",
       "</div>"
      ],
      "text/plain": [
       "   id  action_nunique  action_type_nunique  action_detail_nunique  \\\n",
       "0   0              14                   14                      7   \n",
       "1   1              10                   10                      5   \n",
       "2   2               5                    6                      5   \n",
       "3   3              26                   23                      7   \n",
       "4   4              21                   18                      6   \n",
       "\n",
       "   device_type_nunique  min_secs_elapsed  max_secs_elapsed  sum_secs_elapsed  \\\n",
       "0                    2               0.0          567165.0          867896.0   \n",
       "1                    1              35.0           50548.0          282965.0   \n",
       "2                    2               3.0           84636.0          297010.0   \n",
       "3                    2               0.0         1418284.0         6487080.0   \n",
       "4                    1               0.0         1215345.0         5724670.0   \n",
       "\n",
       "   mean_secs_elapsed  median_secs_elapsed  ...  day_of_year_first_active  \\\n",
       "0       22253.743590                850.0  ...                       134   \n",
       "1        3179.382022               1105.0  ...                       114   \n",
       "2        9900.333333               1614.0  ...                       172   \n",
       "3        8232.335025                498.0  ...                       116   \n",
       "4       11730.881148                865.0  ...                         2   \n",
       "\n",
       "   month_first_active  year_first_active  dayofweek_first_booking  \\\n",
       "0                   5               2014                        2   \n",
       "1                   4               2014                        6   \n",
       "2                   6               2014                        5   \n",
       "3                   4               2014                        5   \n",
       "4                   1               2014                        5   \n",
       "\n",
       "   day_of_year_first_booking  day_first_booking  month_first_booking  \\\n",
       "0                        134                 14                    5   \n",
       "1                        124                  4                    5   \n",
       "2                          3                  3                    1   \n",
       "3                        116                 26                    4   \n",
       "4                          4                  4                    1   \n",
       "\n",
       "   year_first_booking  seasons  age_groups  \n",
       "0                2014        1           5  \n",
       "1                2014        1           5  \n",
       "2                2015        3           5  \n",
       "3                2014        1           6  \n",
       "4                2014        3           5  \n",
       "\n",
       "[5 rows x 40 columns]"
      ]
     },
     "execution_count": 319,
     "metadata": {},
     "output_type": "execute_result"
    }
   ],
   "source": [
    "# BENCHMARK INPUT\n",
    "main_df.head()"
   ]
  },
  {
   "cell_type": "code",
   "execution_count": 320,
   "metadata": {},
   "outputs": [
    {
     "name": "stdout",
     "output_type": "stream",
     "text": [
      "X.shape,len(y) (73815, 38) 73815\n"
     ]
    }
   ],
   "source": [
    "# To get X and y, X input, y target\n",
    "\n",
    "features = [f for f in main_df.columns if f not in ['id','country_destination']]\n",
    "X = main_df[features]\n",
    "y = main_df['country_destination']\n",
    "print('X.shape,len(y)', X.shape,len(y))"
   ]
  },
  {
   "cell_type": "code",
   "execution_count": 321,
   "metadata": {},
   "outputs": [
    {
     "name": "stdout",
     "output_type": "stream",
     "text": [
      "X_train.shape:  (55361, 38) X_valid.shape:  (18454, 38) len(y_train):  55361 len(y_valid) : 18454\n"
     ]
    }
   ],
   "source": [
    "# Split out for validation, using train_test_split\n",
    "X_train,X_valid, y_train,y_valid = train_test_split(X,y,shuffle=True,random_state=10, test_size=0.25)\n",
    "print('X_train.shape: ', X_train.shape, 'X_valid.shape: ',X_valid.shape, 'len(y_train): ',len(y_train),'len(y_valid) :', len(y_valid))"
   ]
  },
  {
   "cell_type": "code",
   "execution_count": 322,
   "metadata": {},
   "outputs": [
    {
     "name": "stdout",
     "output_type": "stream",
     "text": [
      "X_train.shape:  (55361, 38) X_test.shape:  (18454, 38) len(y_train):  55361 len(y_test):  18454\n"
     ]
    }
   ],
   "source": [
    "X_train,X_test, y_train,y_test = train_test_split(X,y,shuffle=True,random_state=10, test_size=0.25)\n",
    "print('X_train.shape: ', X_train.shape,'X_test.shape: ', X_test.shape, 'len(y_train): ', len(y_train), 'len(y_test): ', len(y_test))"
   ]
  },
  {
   "cell_type": "code",
   "execution_count": 323,
   "metadata": {},
   "outputs": [],
   "source": [
    "# Index reset\n",
    "\n",
    "X_train.reset_index(drop=True,inplace=True)\n",
    "y_train.reset_index(drop=True,inplace=True)"
   ]
  },
  {
   "cell_type": "code",
   "execution_count": 325,
   "metadata": {},
   "outputs": [
    {
     "data": {
      "text/plain": [
       "0        10\n",
       "1         7\n",
       "2         7\n",
       "3        11\n",
       "4         3\n",
       "         ..\n",
       "55356     7\n",
       "55357     3\n",
       "55358     7\n",
       "55359    10\n",
       "55360     7\n",
       "Name: country_destination, Length: 55361, dtype: int64"
      ]
     },
     "execution_count": 325,
     "metadata": {},
     "output_type": "execute_result"
    }
   ],
   "source": [
    "# LightGBM model is already loaded\n",
    "\n",
    "print(y_train)"
   ]
  },
  {
   "cell_type": "code",
   "execution_count": 326,
   "metadata": {},
   "outputs": [],
   "source": [
    "# Model parameter setting\n",
    "\n",
    "model_lgb = lgb.LGBMClassifier(\n",
    "            n_jobs=4,\n",
    "            n_estimators=100000,\n",
    "            boost_from_average='false',\n",
    "            learning_rate=0.01,\n",
    "            objective='multiclass',\n",
    "            metric='multi_logloss',\n",
    "            num_class=12,\n",
    "            num_leaves=32,\n",
    "            num_threads=4,\n",
    "            max_depth=10,\n",
    "            tree_learner = \"serial\",\n",
    "            feature_fraction = 0.7,\n",
    "            bagging_freq = 5,\n",
    "            bagging_fraction = 0.7,\n",
    "            min_data_in_leaf=10000,\n",
    "            silent=-1,\n",
    "            verbose=-1,\n",
    "            max_bin = 255,\n",
    "            bagging_seed = 11,\n",
    "            )"
   ]
  },
  {
   "cell_type": "code",
   "execution_count": 327,
   "metadata": {},
   "outputs": [
    {
     "name": "stdout",
     "output_type": "stream",
     "text": [
      "[LightGBM] [Warning] bagging_freq is set=5, subsample_freq=0 will be ignored. Current value: bagging_freq=5\n",
      "[LightGBM] [Warning] min_data_in_leaf is set=10000, min_child_samples=20 will be ignored. Current value: min_data_in_leaf=10000\n",
      "[LightGBM] [Warning] feature_fraction is set=0.7, colsample_bytree=1.0 will be ignored. Current value: feature_fraction=0.7\n",
      "[LightGBM] [Warning] bagging_fraction is set=0.7, subsample=1.0 will be ignored. Current value: bagging_fraction=0.7\n",
      "[LightGBM] [Warning] num_threads is set=4, n_jobs=4 will be ignored. Current value: num_threads=4\n",
      "Training until validation scores don't improve for 300 rounds\n",
      "[500]\ttraining's multi_logloss: 0.992405\tvalid_1's multi_logloss: 1.00873\n",
      "[1000]\ttraining's multi_logloss: 0.977461\tvalid_1's multi_logloss: 1.00007\n",
      "[1500]\ttraining's multi_logloss: 0.970272\tvalid_1's multi_logloss: 0.997244\n",
      "[2000]\ttraining's multi_logloss: 0.964737\tvalid_1's multi_logloss: 0.995673\n",
      "[2500]\ttraining's multi_logloss: 0.960438\tvalid_1's multi_logloss: 0.994641\n",
      "[3000]\ttraining's multi_logloss: 0.956708\tvalid_1's multi_logloss: 0.993669\n",
      "[3500]\ttraining's multi_logloss: 0.953435\tvalid_1's multi_logloss: 0.993037\n",
      "[4000]\ttraining's multi_logloss: 0.950491\tvalid_1's multi_logloss: 0.992531\n",
      "[4500]\ttraining's multi_logloss: 0.947786\tvalid_1's multi_logloss: 0.99231\n",
      "[5000]\ttraining's multi_logloss: 0.945289\tvalid_1's multi_logloss: 0.992126\n",
      "Early stopping, best iteration is:\n",
      "[4735]\ttraining's multi_logloss: 0.946575\tvalid_1's multi_logloss: 0.992079\n"
     ]
    },
    {
     "data": {
      "text/plain": [
       "LGBMClassifier(bagging_fraction=0.7, bagging_freq=5, bagging_seed=11,\n",
       "               boost_from_average='false', feature_fraction=0.7,\n",
       "               learning_rate=0.01, max_bin=255, max_depth=10,\n",
       "               metric='multi_logloss', min_data_in_leaf=10000,\n",
       "               n_estimators=100000, n_jobs=4, num_class=12, num_leaves=32,\n",
       "               num_threads=4, objective='multiclass', silent=-1,\n",
       "               tree_learner='serial', verbose=-1)"
      ]
     },
     "execution_count": 327,
     "metadata": {},
     "output_type": "execute_result"
    }
   ],
   "source": [
    "# Fitting the model\n",
    "model_lgb.fit(X_train, y_train, eval_set=[(X_train, y_train), (X_valid, y_valid)], eval_metric = 'multi_logloss', verbose=500, early_stopping_rounds = 300)"
   ]
  },
  {
   "cell_type": "code",
   "execution_count": 328,
   "metadata": {},
   "outputs": [
    {
     "data": {
      "text/plain": [
       "RandomForestRegressor()"
      ]
     },
     "execution_count": 328,
     "metadata": {},
     "output_type": "execute_result"
    }
   ],
   "source": [
    "# Defining  RandomForestRegressor and train the model\n",
    "\n",
    "rf_reg = RandomForestRegressor()\n",
    "rf_reg.fit(X_train,y_train)"
   ]
  },
  {
   "cell_type": "code",
   "execution_count": 329,
   "metadata": {},
   "outputs": [],
   "source": [
    "y_pred = rf_reg.predict(X_test)"
   ]
  },
  {
   "cell_type": "code",
   "execution_count": 330,
   "metadata": {},
   "outputs": [
    {
     "name": "stdout",
     "output_type": "stream",
     "text": [
      "R^2: 0.8713000760105604\n"
     ]
    }
   ],
   "source": [
    "rsquare_score = rf_reg.score(X_train,y_train)\n",
    "print('R^2: {}'.format(rsquare_score))"
   ]
  },
  {
   "cell_type": "code",
   "execution_count": 331,
   "metadata": {},
   "outputs": [
    {
     "name": "stdout",
     "output_type": "stream",
     "text": [
      "[0.08075129 0.07999455 0.08798108 0.0760992  0.07586189]\n"
     ]
    }
   ],
   "source": [
    "cv_r2_scores_rf = cross_val_score(rf_reg, X, y, cv=5,scoring='r2')\n",
    "print(cv_r2_scores_rf)"
   ]
  },
  {
   "cell_type": "code",
   "execution_count": 332,
   "metadata": {},
   "outputs": [
    {
     "name": "stdout",
     "output_type": "stream",
     "text": [
      "Mean 5-Fold R Squared: 0.08013760344220562\n"
     ]
    }
   ],
   "source": [
    "print(\"Mean 5-Fold R Squared: {}\".format(np.mean(cv_r2_scores_rf)))"
   ]
  },
  {
   "cell_type": "code",
   "execution_count": 333,
   "metadata": {},
   "outputs": [],
   "source": [
    "# Feature importance definition of a data set\n",
    "\n",
    "X, y = make_classification(n_samples=1000, n_features=37, n_informative=5, random_state=1)"
   ]
  },
  {
   "cell_type": "code",
   "execution_count": 334,
   "metadata": {},
   "outputs": [],
   "source": [
    "# Definition the model\n",
    "\n",
    "model = DecisionTreeClassifier()"
   ]
  },
  {
   "cell_type": "code",
   "execution_count": 335,
   "metadata": {},
   "outputs": [
    {
     "data": {
      "text/plain": [
       "DecisionTreeClassifier()"
      ]
     },
     "execution_count": 335,
     "metadata": {},
     "output_type": "execute_result"
    }
   ],
   "source": [
    "# Fit the model\n",
    "\n",
    "model.fit(X, y) "
   ]
  },
  {
   "cell_type": "code",
   "execution_count": 336,
   "metadata": {},
   "outputs": [],
   "source": [
    "#  Getting the importance\n",
    "\n",
    "importance = model.feature_importances_"
   ]
  },
  {
   "cell_type": "code",
   "execution_count": 337,
   "metadata": {},
   "outputs": [
    {
     "name": "stdout",
     "output_type": "stream",
     "text": [
      "Feature: 0, Score: 0.00568\n",
      "Feature: 1, Score: 0.01006\n",
      "Feature: 2, Score: 0.00000\n",
      "Feature: 3, Score: 0.00744\n",
      "Feature: 4, Score: 0.01448\n",
      "Feature: 5, Score: 0.00331\n",
      "Feature: 6, Score: 0.00702\n",
      "Feature: 7, Score: 0.00072\n",
      "Feature: 8, Score: 0.19888\n",
      "Feature: 9, Score: 0.00765\n",
      "Feature: 10, Score: 0.00241\n",
      "Feature: 11, Score: 0.00337\n",
      "Feature: 12, Score: 0.01569\n",
      "Feature: 13, Score: 0.07423\n",
      "Feature: 14, Score: 0.03441\n",
      "Feature: 15, Score: 0.00910\n",
      "Feature: 16, Score: 0.00622\n",
      "Feature: 17, Score: 0.06339\n",
      "Feature: 18, Score: 0.00519\n",
      "Feature: 19, Score: 0.01526\n",
      "Feature: 20, Score: 0.00480\n",
      "Feature: 21, Score: 0.01604\n",
      "Feature: 22, Score: 0.00392\n",
      "Feature: 23, Score: 0.00398\n",
      "Feature: 24, Score: 0.00267\n",
      "Feature: 25, Score: 0.00377\n",
      "Feature: 26, Score: 0.00549\n",
      "Feature: 27, Score: 0.00186\n",
      "Feature: 28, Score: 0.00000\n",
      "Feature: 29, Score: 0.00702\n",
      "Feature: 30, Score: 0.00000\n",
      "Feature: 31, Score: 0.03878\n",
      "Feature: 32, Score: 0.09435\n",
      "Feature: 33, Score: 0.31337\n",
      "Feature: 34, Score: 0.00737\n",
      "Feature: 35, Score: 0.01209\n",
      "Feature: 36, Score: 0.00000\n"
     ]
    }
   ],
   "source": [
    "# Summary of feature importance\n",
    "for i,v in enumerate(importance):\n",
    "    print('Feature: %0d, Score: %.5f' % (i,v))"
   ]
  },
  {
   "cell_type": "code",
   "execution_count": 338,
   "metadata": {},
   "outputs": [
    {
     "data": {
      "image/png": "[encoded data removed]",
      "text/plain": [
       "<Figure size 432x288 with 1 Axes>"
      ]
     },
     "metadata": {},
     "output_type": "display_data"
    }
   ],
   "source": [
    "# Feature importance plot\n",
    "pyplot.bar([x for x in range(len(importance))], importance)\n",
    "pyplot.show()"
   ]
  },
  {
   "cell_type": "markdown",
   "metadata": {},
   "source": [
    "Considering the feature importance plot, removing some features may improve the model."
   ]
  },
  {
   "cell_type": "code",
   "execution_count": null,
   "metadata": {},
   "outputs": [],
   "source": []
  }
 ],
 "metadata": {
  "kernelspec": {
   "display_name": "Python 3",
   "language": "python",
   "name": "python3"
  },
  "language_info": {
   "codemirror_mode": {
    "name": "ipython",
    "version": 3
   },
   "file_extension": ".py",
   "mimetype": "text/x-python",
   "name": "python",
   "nbconvert_exporter": "python",
   "pygments_lexer": "ipython3",
   "version": "3.7.6"
  }
 },
 "nbformat": 4,
 "nbformat_minor": 4
}
